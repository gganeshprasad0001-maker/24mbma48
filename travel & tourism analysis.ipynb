{
 "cells": [
  {
   "cell_type": "code",
   "execution_count": 0,
   "metadata": {
    "application/vnd.databricks.v1+cell": {
     "cellMetadata": {
      "byteLimit": 2048000,
      "rowLimit": 10000
     },
     "inputWidgets": {},
     "nuid": "39950139-6d52-47de-b478-40707e165ca4",
     "showTitle": false,
     "tableResultSettingsMap": {},
     "title": ""
    }
   },
   "outputs": [
    {
     "output_type": "stream",
     "name": "stdout",
     "output_type": "stream",
     "text": [
      "root\n |-- customer_id: string (nullable = true)\n |-- customer_name: string (nullable = true)\n |-- city: string (nullable = true)\n |-- hotel_id: string (nullable = true)\n |-- hotel_name: string (nullable = true)\n |-- hotel_location: string (nullable = true)\n |-- booking_id: string (nullable = true)\n |-- stay_duration: long (nullable = true)\n |-- amount_spent: long (nullable = true)\n |-- status: string (nullable = true)\n |-- rating: long (nullable = true)\n\n"
     ]
    },
    {
     "output_type": "display_data",
     "data": {
      "text/html": [
       "<style scoped>\n",
       "  .table-result-container {\n",
       "    max-height: 300px;\n",
       "    overflow: auto;\n",
       "  }\n",
       "  table, th, td {\n",
       "    border: 1px solid black;\n",
       "    border-collapse: collapse;\n",
       "  }\n",
       "  th, td {\n",
       "    padding: 5px;\n",
       "  }\n",
       "  th {\n",
       "    text-align: left;\n",
       "  }\n",
       "</style><div class='table-result-container'><table class='table-result'><thead style='background-color: white'><tr><th>customer_id</th><th>customer_name</th><th>city</th><th>hotel_id</th><th>hotel_name</th><th>hotel_location</th><th>booking_id</th><th>stay_duration</th><th>amount_spent</th><th>status</th><th>rating</th></tr></thead><tbody><tr><td>C001</td><td>Neha</td><td>Pune</td><td>H106</td><td>Conrad</td><td>Pune</td><td>B001</td><td>5</td><td>35140</td><td>cancelled</td><td>94</td></tr><tr><td>C002</td><td>John</td><td>Hyderabad</td><td>H101</td><td>Taj Krishna</td><td>Hyderabad</td><td>B002</td><td>7</td><td>42158</td><td>cancelled</td><td>91</td></tr><tr><td>C003</td><td>Vikas</td><td>Pune</td><td>H106</td><td>Conrad</td><td>Pune</td><td>B003</td><td>1</td><td>36451</td><td>booked</td><td>60</td></tr><tr><td>C004</td><td>Sneha</td><td>Pune</td><td>H106</td><td>Hyatt</td><td>Pune</td><td>B004</td><td>8</td><td>18071</td><td>booked</td><td>70</td></tr><tr><td>C005</td><td>Sneha</td><td>Pune</td><td>H106</td><td>Marriott</td><td>Pune</td><td>B005</td><td>10</td><td>44743</td><td>booked</td><td>96</td></tr><tr><td>C006</td><td>Sara</td><td>Chennai</td><td>H104</td><td>ITC Grand Chola</td><td>Chennai</td><td>B006</td><td>10</td><td>43222</td><td>cancelled</td><td>79</td></tr><tr><td>C007</td><td>Ramesh</td><td>Delhi</td><td>H103</td><td>Leela Palace</td><td>Delhi</td><td>B007</td><td>7</td><td>44116</td><td>booked</td><td>51</td></tr><tr><td>C008</td><td>Aditi</td><td>Hyderabad</td><td>H101</td><td>Novotel</td><td>Hyderabad</td><td>B008</td><td>6</td><td>26642</td><td>booked</td><td>94</td></tr><tr><td>C009</td><td>Rahul</td><td>Chennai</td><td>H104</td><td>Taj Coromandel</td><td>Chennai</td><td>B009</td><td>6</td><td>45354</td><td>booked</td><td>64</td></tr><tr><td>C010</td><td>John</td><td>Hyderabad</td><td>H101</td><td>Novotel</td><td>Hyderabad</td><td>B010</td><td>8</td><td>14850</td><td>cancelled</td><td>59</td></tr><tr><td>C011</td><td>Anjali</td><td>Hyderabad</td><td>H101</td><td>Novotel</td><td>Hyderabad</td><td>B011</td><td>2</td><td>49977</td><td>cancelled</td><td>58</td></tr><tr><td>C012</td><td>Kavya</td><td>Bangalore</td><td>H102</td><td>Taj West End</td><td>Bangalore</td><td>B012</td><td>6</td><td>18878</td><td>cancelled</td><td>59</td></tr><tr><td>C013</td><td>Neha</td><td>Chennai</td><td>H104</td><td>ITC Grand Chola</td><td>Chennai</td><td>B013</td><td>1</td><td>15240</td><td>booked</td><td>98</td></tr><tr><td>C014</td><td>Sneha</td><td>Bangalore</td><td>H102</td><td>ITC Gardenia</td><td>Bangalore</td><td>B014</td><td>2</td><td>48622</td><td>cancelled</td><td>56</td></tr><tr><td>C015</td><td>Mohit</td><td>Mumbai</td><td>H105</td><td>Taj Mahal Palace</td><td>Mumbai</td><td>B015</td><td>2</td><td>27004</td><td>booked</td><td>59</td></tr><tr><td>C016</td><td>Divya</td><td>Pune</td><td>H106</td><td>Conrad</td><td>Pune</td><td>B016</td><td>9</td><td>9594</td><td>booked</td><td>56</td></tr><tr><td>C017</td><td>Divya</td><td>Pune</td><td>H106</td><td>Conrad</td><td>Pune</td><td>B017</td><td>10</td><td>18108</td><td>cancelled</td><td>82</td></tr><tr><td>C018</td><td>Anjali</td><td>Chennai</td><td>H104</td><td>Hyatt Regency</td><td>Chennai</td><td>B018</td><td>8</td><td>43128</td><td>cancelled</td><td>57</td></tr><tr><td>C019</td><td>Meena</td><td>Bangalore</td><td>H102</td><td>Taj West End</td><td>Bangalore</td><td>B019</td><td>3</td><td>31185</td><td>cancelled</td><td>69</td></tr><tr><td>C020</td><td>Lakshmi</td><td>Hyderabad</td><td>H101</td><td>Taj Krishna</td><td>Hyderabad</td><td>B020</td><td>1</td><td>16617</td><td>cancelled</td><td>83</td></tr><tr><td>C021</td><td>Kavya</td><td>Hyderabad</td><td>H101</td><td>ITC Kakatiya</td><td>Hyderabad</td><td>B021</td><td>8</td><td>17367</td><td>cancelled</td><td>61</td></tr><tr><td>C022</td><td>Rahul</td><td>Pune</td><td>H106</td><td>Marriott</td><td>Pune</td><td>B022</td><td>8</td><td>49452</td><td>cancelled</td><td>51</td></tr><tr><td>C023</td><td>Vijay</td><td>Hyderabad</td><td>H101</td><td>ITC Kakatiya</td><td>Hyderabad</td><td>B023</td><td>4</td><td>48939</td><td>cancelled</td><td>89</td></tr><tr><td>C024</td><td>Arun</td><td>Delhi</td><td>H103</td><td>Hyatt Regency</td><td>Delhi</td><td>B024</td><td>6</td><td>16779</td><td>booked</td><td>71</td></tr><tr><td>C025</td><td>John</td><td>Bangalore</td><td>H102</td><td>ITC Gardenia</td><td>Bangalore</td><td>B025</td><td>10</td><td>6604</td><td>cancelled</td><td>66</td></tr><tr><td>C026</td><td>Rahul</td><td>Mumbai</td><td>H105</td><td>JW Marriott</td><td>Mumbai</td><td>B026</td><td>4</td><td>46048</td><td>cancelled</td><td>65</td></tr><tr><td>C027</td><td>Mohit</td><td>Pune</td><td>H106</td><td>Hyatt</td><td>Pune</td><td>B027</td><td>7</td><td>18928</td><td>cancelled</td><td>81</td></tr><tr><td>C028</td><td>Mohit</td><td>Chennai</td><td>H104</td><td>Taj Coromandel</td><td>Chennai</td><td>B028</td><td>7</td><td>41980</td><td>booked</td><td>76</td></tr><tr><td>C029</td><td>Arun</td><td>Hyderabad</td><td>H101</td><td>ITC Kakatiya</td><td>Hyderabad</td><td>B029</td><td>7</td><td>29111</td><td>booked</td><td>66</td></tr><tr><td>C030</td><td>Meena</td><td>Chennai</td><td>H104</td><td>Hyatt Regency</td><td>Chennai</td><td>B030</td><td>10</td><td>44262</td><td>booked</td><td>89</td></tr><tr><td>C031</td><td>Rahul</td><td>Hyderabad</td><td>H101</td><td>ITC Kakatiya</td><td>Hyderabad</td><td>B031</td><td>9</td><td>42642</td><td>cancelled</td><td>50</td></tr><tr><td>C032</td><td>Anjali</td><td>Pune</td><td>H106</td><td>Conrad</td><td>Pune</td><td>B032</td><td>8</td><td>5207</td><td>cancelled</td><td>91</td></tr><tr><td>C033</td><td>Vikas</td><td>Hyderabad</td><td>H101</td><td>Novotel</td><td>Hyderabad</td><td>B033</td><td>8</td><td>42053</td><td>booked</td><td>89</td></tr><tr><td>C034</td><td>Sneha</td><td>Hyderabad</td><td>H101</td><td>Taj Krishna</td><td>Hyderabad</td><td>B034</td><td>10</td><td>38836</td><td>cancelled</td><td>91</td></tr><tr><td>C035</td><td>Divya</td><td>Bangalore</td><td>H102</td><td>ITC Gardenia</td><td>Bangalore</td><td>B035</td><td>2</td><td>4961</td><td>cancelled</td><td>93</td></tr><tr><td>C036</td><td>Lakshmi</td><td>Mumbai</td><td>H105</td><td>The Oberoi</td><td>Mumbai</td><td>B036</td><td>8</td><td>38408</td><td>booked</td><td>56</td></tr><tr><td>C037</td><td>Anjali</td><td>Mumbai</td><td>H105</td><td>JW Marriott</td><td>Mumbai</td><td>B037</td><td>10</td><td>35912</td><td>cancelled</td><td>75</td></tr><tr><td>C038</td><td>Ramesh</td><td>Bangalore</td><td>H102</td><td>Taj West End</td><td>Bangalore</td><td>B038</td><td>1</td><td>35937</td><td>booked</td><td>91</td></tr><tr><td>C039</td><td>Divya</td><td>Bangalore</td><td>H102</td><td>Taj West End</td><td>Bangalore</td><td>B039</td><td>8</td><td>45404</td><td>booked</td><td>95</td></tr><tr><td>C040</td><td>Sneha</td><td>Bangalore</td><td>H102</td><td>ITC Gardenia</td><td>Bangalore</td><td>B040</td><td>10</td><td>20713</td><td>booked</td><td>74</td></tr><tr><td>C041</td><td>Divya</td><td>Delhi</td><td>H103</td><td>Leela Palace</td><td>Delhi</td><td>B041</td><td>7</td><td>30019</td><td>cancelled</td><td>96</td></tr><tr><td>C042</td><td>Priya</td><td>Delhi</td><td>H103</td><td>Leela Palace</td><td>Delhi</td><td>B042</td><td>3</td><td>41181</td><td>booked</td><td>84</td></tr><tr><td>C043</td><td>Vijay</td><td>Hyderabad</td><td>H101</td><td>Taj Krishna</td><td>Hyderabad</td><td>B043</td><td>10</td><td>4872</td><td>booked</td><td>94</td></tr><tr><td>C044</td><td>Meena</td><td>Chennai</td><td>H104</td><td>ITC Grand Chola</td><td>Chennai</td><td>B044</td><td>3</td><td>29400</td><td>cancelled</td><td>77</td></tr><tr><td>C045</td><td>Aditi</td><td>Bangalore</td><td>H102</td><td>ITC Gardenia</td><td>Bangalore</td><td>B045</td><td>8</td><td>23299</td><td>booked</td><td>74</td></tr><tr><td>C046</td><td>Kavya</td><td>Mumbai</td><td>H105</td><td>Taj Mahal Palace</td><td>Mumbai</td><td>B046</td><td>10</td><td>19525</td><td>booked</td><td>55</td></tr><tr><td>C047</td><td>John</td><td>Delhi</td><td>H103</td><td>Leela Palace</td><td>Delhi</td><td>B047</td><td>6</td><td>39452</td><td>cancelled</td><td>66</td></tr><tr><td>C048</td><td>Daniel</td><td>Chennai</td><td>H104</td><td>ITC Grand Chola</td><td>Chennai</td><td>B048</td><td>4</td><td>32524</td><td>booked</td><td>83</td></tr><tr><td>C049</td><td>Vikas</td><td>Chennai</td><td>H104</td><td>ITC Grand Chola</td><td>Chennai</td><td>B049</td><td>6</td><td>43827</td><td>booked</td><td>55</td></tr><tr><td>C050</td><td>John</td><td>Hyderabad</td><td>H101</td><td>Novotel</td><td>Hyderabad</td><td>B050</td><td>5</td><td>48160</td><td>cancelled</td><td>90</td></tr><tr><td>C051</td><td>Sara</td><td>Delhi</td><td>H103</td><td>Hyatt Regency</td><td>Delhi</td><td>B051</td><td>7</td><td>39807</td><td>booked</td><td>83</td></tr><tr><td>C052</td><td>Rahul</td><td>Hyderabad</td><td>H101</td><td>ITC Kakatiya</td><td>Hyderabad</td><td>B052</td><td>1</td><td>16896</td><td>cancelled</td><td>67</td></tr><tr><td>C053</td><td>Mohit</td><td>Mumbai</td><td>H105</td><td>Taj Mahal Palace</td><td>Mumbai</td><td>B053</td><td>5</td><td>40316</td><td>booked</td><td>52</td></tr><tr><td>C054</td><td>Mohit</td><td>Chennai</td><td>H104</td><td>ITC Grand Chola</td><td>Chennai</td><td>B054</td><td>9</td><td>17261</td><td>booked</td><td>67</td></tr><tr><td>C055</td><td>Rahul</td><td>Delhi</td><td>H103</td><td>The Oberoi</td><td>Delhi</td><td>B055</td><td>6</td><td>3751</td><td>booked</td><td>58</td></tr><tr><td>C056</td><td>Divya</td><td>Mumbai</td><td>H105</td><td>Taj Mahal Palace</td><td>Mumbai</td><td>B056</td><td>4</td><td>32867</td><td>cancelled</td><td>75</td></tr><tr><td>C057</td><td>Anjali</td><td>Bangalore</td><td>H102</td><td>The Leela Palace</td><td>Bangalore</td><td>B057</td><td>5</td><td>25125</td><td>cancelled</td><td>100</td></tr><tr><td>C058</td><td>Kavya</td><td>Pune</td><td>H106</td><td>Marriott</td><td>Pune</td><td>B058</td><td>4</td><td>10610</td><td>cancelled</td><td>58</td></tr><tr><td>C059</td><td>Vikas</td><td>Delhi</td><td>H103</td><td>Hyatt Regency</td><td>Delhi</td><td>B059</td><td>6</td><td>14906</td><td>booked</td><td>70</td></tr><tr><td>C060</td><td>Kavya</td><td>Bangalore</td><td>H102</td><td>Taj West End</td><td>Bangalore</td><td>B060</td><td>7</td><td>20707</td><td>booked</td><td>63</td></tr><tr><td>C061</td><td>Lakshmi</td><td>Hyderabad</td><td>H101</td><td>Novotel</td><td>Hyderabad</td><td>B061</td><td>1</td><td>40843</td><td>booked</td><td>93</td></tr><tr><td>C062</td><td>Vikas</td><td>Delhi</td><td>H103</td><td>Leela Palace</td><td>Delhi</td><td>B062</td><td>3</td><td>11152</td><td>cancelled</td><td>95</td></tr><tr><td>C063</td><td>Kavya</td><td>Chennai</td><td>H104</td><td>Hyatt Regency</td><td>Chennai</td><td>B063</td><td>3</td><td>15056</td><td>booked</td><td>72</td></tr><tr><td>C064</td><td>Vikas</td><td>Mumbai</td><td>H105</td><td>JW Marriott</td><td>Mumbai</td><td>B064</td><td>9</td><td>19283</td><td>cancelled</td><td>71</td></tr><tr><td>C065</td><td>Anjali</td><td>Mumbai</td><td>H105</td><td>Taj Mahal Palace</td><td>Mumbai</td><td>B065</td><td>10</td><td>19819</td><td>cancelled</td><td>77</td></tr><tr><td>C066</td><td>Divya</td><td>Pune</td><td>H106</td><td>Hyatt</td><td>Pune</td><td>B066</td><td>7</td><td>36530</td><td>cancelled</td><td>78</td></tr><tr><td>C067</td><td>Mohit</td><td>Hyderabad</td><td>H101</td><td>ITC Kakatiya</td><td>Hyderabad</td><td>B067</td><td>7</td><td>13073</td><td>booked</td><td>74</td></tr><tr><td>C068</td><td>Lakshmi</td><td>Hyderabad</td><td>H101</td><td>Novotel</td><td>Hyderabad</td><td>B068</td><td>7</td><td>37474</td><td>booked</td><td>87</td></tr><tr><td>C069</td><td>Sneha</td><td>Hyderabad</td><td>H101</td><td>Taj Krishna</td><td>Hyderabad</td><td>B069</td><td>10</td><td>12635</td><td>booked</td><td>82</td></tr><tr><td>C070</td><td>Meena</td><td>Hyderabad</td><td>H101</td><td>Novotel</td><td>Hyderabad</td><td>B070</td><td>2</td><td>2716</td><td>cancelled</td><td>63</td></tr><tr><td>C071</td><td>Kavya</td><td>Delhi</td><td>H103</td><td>The Oberoi</td><td>Delhi</td><td>B071</td><td>4</td><td>13774</td><td>booked</td><td>93</td></tr><tr><td>C072</td><td>Divya</td><td>Delhi</td><td>H103</td><td>Leela Palace</td><td>Delhi</td><td>B072</td><td>10</td><td>38936</td><td>cancelled</td><td>56</td></tr><tr><td>C073</td><td>Daniel</td><td>Hyderabad</td><td>H101</td><td>Taj Krishna</td><td>Hyderabad</td><td>B073</td><td>9</td><td>11075</td><td>booked</td><td>75</td></tr><tr><td>C074</td><td>John</td><td>Mumbai</td><td>H105</td><td>The Oberoi</td><td>Mumbai</td><td>B074</td><td>8</td><td>37971</td><td>cancelled</td><td>54</td></tr><tr><td>C075</td><td>Neha</td><td>Pune</td><td>H106</td><td>Marriott</td><td>Pune</td><td>B075</td><td>9</td><td>46701</td><td>cancelled</td><td>50</td></tr></tbody></table></div>"
      ]
     },
     "metadata": {
      "application/vnd.databricks.v1+output": {
       "addedWidgets": {},
       "aggData": [],
       "aggError": "",
       "aggOverflow": false,
       "aggSchema": [],
       "aggSeriesLimitReached": false,
       "aggType": "",
       "arguments": {},
       "columnCustomDisplayInfos": {},
       "data": [
        [
         "C001",
         "Neha",
         "Pune",
         "H106",
         "Conrad",
         "Pune",
         "B001",
         5,
         35140,
         "cancelled",
         94
        ],
        [
         "C002",
         "John",
         "Hyderabad",
         "H101",
         "Taj Krishna",
         "Hyderabad",
         "B002",
         7,
         42158,
         "cancelled",
         91
        ],
        [
         "C003",
         "Vikas",
         "Pune",
         "H106",
         "Conrad",
         "Pune",
         "B003",
         1,
         36451,
         "booked",
         60
        ],
        [
         "C004",
         "Sneha",
         "Pune",
         "H106",
         "Hyatt",
         "Pune",
         "B004",
         8,
         18071,
         "booked",
         70
        ],
        [
         "C005",
         "Sneha",
         "Pune",
         "H106",
         "Marriott",
         "Pune",
         "B005",
         10,
         44743,
         "booked",
         96
        ],
        [
         "C006",
         "Sara",
         "Chennai",
         "H104",
         "ITC Grand Chola",
         "Chennai",
         "B006",
         10,
         43222,
         "cancelled",
         79
        ],
        [
         "C007",
         "Ramesh",
         "Delhi",
         "H103",
         "Leela Palace",
         "Delhi",
         "B007",
         7,
         44116,
         "booked",
         51
        ],
        [
         "C008",
         "Aditi",
         "Hyderabad",
         "H101",
         "Novotel",
         "Hyderabad",
         "B008",
         6,
         26642,
         "booked",
         94
        ],
        [
         "C009",
         "Rahul",
         "Chennai",
         "H104",
         "Taj Coromandel",
         "Chennai",
         "B009",
         6,
         45354,
         "booked",
         64
        ],
        [
         "C010",
         "John",
         "Hyderabad",
         "H101",
         "Novotel",
         "Hyderabad",
         "B010",
         8,
         14850,
         "cancelled",
         59
        ],
        [
         "C011",
         "Anjali",
         "Hyderabad",
         "H101",
         "Novotel",
         "Hyderabad",
         "B011",
         2,
         49977,
         "cancelled",
         58
        ],
        [
         "C012",
         "Kavya",
         "Bangalore",
         "H102",
         "Taj West End",
         "Bangalore",
         "B012",
         6,
         18878,
         "cancelled",
         59
        ],
        [
         "C013",
         "Neha",
         "Chennai",
         "H104",
         "ITC Grand Chola",
         "Chennai",
         "B013",
         1,
         15240,
         "booked",
         98
        ],
        [
         "C014",
         "Sneha",
         "Bangalore",
         "H102",
         "ITC Gardenia",
         "Bangalore",
         "B014",
         2,
         48622,
         "cancelled",
         56
        ],
        [
         "C015",
         "Mohit",
         "Mumbai",
         "H105",
         "Taj Mahal Palace",
         "Mumbai",
         "B015",
         2,
         27004,
         "booked",
         59
        ],
        [
         "C016",
         "Divya",
         "Pune",
         "H106",
         "Conrad",
         "Pune",
         "B016",
         9,
         9594,
         "booked",
         56
        ],
        [
         "C017",
         "Divya",
         "Pune",
         "H106",
         "Conrad",
         "Pune",
         "B017",
         10,
         18108,
         "cancelled",
         82
        ],
        [
         "C018",
         "Anjali",
         "Chennai",
         "H104",
         "Hyatt Regency",
         "Chennai",
         "B018",
         8,
         43128,
         "cancelled",
         57
        ],
        [
         "C019",
         "Meena",
         "Bangalore",
         "H102",
         "Taj West End",
         "Bangalore",
         "B019",
         3,
         31185,
         "cancelled",
         69
        ],
        [
         "C020",
         "Lakshmi",
         "Hyderabad",
         "H101",
         "Taj Krishna",
         "Hyderabad",
         "B020",
         1,
         16617,
         "cancelled",
         83
        ],
        [
         "C021",
         "Kavya",
         "Hyderabad",
         "H101",
         "ITC Kakatiya",
         "Hyderabad",
         "B021",
         8,
         17367,
         "cancelled",
         61
        ],
        [
         "C022",
         "Rahul",
         "Pune",
         "H106",
         "Marriott",
         "Pune",
         "B022",
         8,
         49452,
         "cancelled",
         51
        ],
        [
         "C023",
         "Vijay",
         "Hyderabad",
         "H101",
         "ITC Kakatiya",
         "Hyderabad",
         "B023",
         4,
         48939,
         "cancelled",
         89
        ],
        [
         "C024",
         "Arun",
         "Delhi",
         "H103",
         "Hyatt Regency",
         "Delhi",
         "B024",
         6,
         16779,
         "booked",
         71
        ],
        [
         "C025",
         "John",
         "Bangalore",
         "H102",
         "ITC Gardenia",
         "Bangalore",
         "B025",
         10,
         6604,
         "cancelled",
         66
        ],
        [
         "C026",
         "Rahul",
         "Mumbai",
         "H105",
         "JW Marriott",
         "Mumbai",
         "B026",
         4,
         46048,
         "cancelled",
         65
        ],
        [
         "C027",
         "Mohit",
         "Pune",
         "H106",
         "Hyatt",
         "Pune",
         "B027",
         7,
         18928,
         "cancelled",
         81
        ],
        [
         "C028",
         "Mohit",
         "Chennai",
         "H104",
         "Taj Coromandel",
         "Chennai",
         "B028",
         7,
         41980,
         "booked",
         76
        ],
        [
         "C029",
         "Arun",
         "Hyderabad",
         "H101",
         "ITC Kakatiya",
         "Hyderabad",
         "B029",
         7,
         29111,
         "booked",
         66
        ],
        [
         "C030",
         "Meena",
         "Chennai",
         "H104",
         "Hyatt Regency",
         "Chennai",
         "B030",
         10,
         44262,
         "booked",
         89
        ],
        [
         "C031",
         "Rahul",
         "Hyderabad",
         "H101",
         "ITC Kakatiya",
         "Hyderabad",
         "B031",
         9,
         42642,
         "cancelled",
         50
        ],
        [
         "C032",
         "Anjali",
         "Pune",
         "H106",
         "Conrad",
         "Pune",
         "B032",
         8,
         5207,
         "cancelled",
         91
        ],
        [
         "C033",
         "Vikas",
         "Hyderabad",
         "H101",
         "Novotel",
         "Hyderabad",
         "B033",
         8,
         42053,
         "booked",
         89
        ],
        [
         "C034",
         "Sneha",
         "Hyderabad",
         "H101",
         "Taj Krishna",
         "Hyderabad",
         "B034",
         10,
         38836,
         "cancelled",
         91
        ],
        [
         "C035",
         "Divya",
         "Bangalore",
         "H102",
         "ITC Gardenia",
         "Bangalore",
         "B035",
         2,
         4961,
         "cancelled",
         93
        ],
        [
         "C036",
         "Lakshmi",
         "Mumbai",
         "H105",
         "The Oberoi",
         "Mumbai",
         "B036",
         8,
         38408,
         "booked",
         56
        ],
        [
         "C037",
         "Anjali",
         "Mumbai",
         "H105",
         "JW Marriott",
         "Mumbai",
         "B037",
         10,
         35912,
         "cancelled",
         75
        ],
        [
         "C038",
         "Ramesh",
         "Bangalore",
         "H102",
         "Taj West End",
         "Bangalore",
         "B038",
         1,
         35937,
         "booked",
         91
        ],
        [
         "C039",
         "Divya",
         "Bangalore",
         "H102",
         "Taj West End",
         "Bangalore",
         "B039",
         8,
         45404,
         "booked",
         95
        ],
        [
         "C040",
         "Sneha",
         "Bangalore",
         "H102",
         "ITC Gardenia",
         "Bangalore",
         "B040",
         10,
         20713,
         "booked",
         74
        ],
        [
         "C041",
         "Divya",
         "Delhi",
         "H103",
         "Leela Palace",
         "Delhi",
         "B041",
         7,
         30019,
         "cancelled",
         96
        ],
        [
         "C042",
         "Priya",
         "Delhi",
         "H103",
         "Leela Palace",
         "Delhi",
         "B042",
         3,
         41181,
         "booked",
         84
        ],
        [
         "C043",
         "Vijay",
         "Hyderabad",
         "H101",
         "Taj Krishna",
         "Hyderabad",
         "B043",
         10,
         4872,
         "booked",
         94
        ],
        [
         "C044",
         "Meena",
         "Chennai",
         "H104",
         "ITC Grand Chola",
         "Chennai",
         "B044",
         3,
         29400,
         "cancelled",
         77
        ],
        [
         "C045",
         "Aditi",
         "Bangalore",
         "H102",
         "ITC Gardenia",
         "Bangalore",
         "B045",
         8,
         23299,
         "booked",
         74
        ],
        [
         "C046",
         "Kavya",
         "Mumbai",
         "H105",
         "Taj Mahal Palace",
         "Mumbai",
         "B046",
         10,
         19525,
         "booked",
         55
        ],
        [
         "C047",
         "John",
         "Delhi",
         "H103",
         "Leela Palace",
         "Delhi",
         "B047",
         6,
         39452,
         "cancelled",
         66
        ],
        [
         "C048",
         "Daniel",
         "Chennai",
         "H104",
         "ITC Grand Chola",
         "Chennai",
         "B048",
         4,
         32524,
         "booked",
         83
        ],
        [
         "C049",
         "Vikas",
         "Chennai",
         "H104",
         "ITC Grand Chola",
         "Chennai",
         "B049",
         6,
         43827,
         "booked",
         55
        ],
        [
         "C050",
         "John",
         "Hyderabad",
         "H101",
         "Novotel",
         "Hyderabad",
         "B050",
         5,
         48160,
         "cancelled",
         90
        ],
        [
         "C051",
         "Sara",
         "Delhi",
         "H103",
         "Hyatt Regency",
         "Delhi",
         "B051",
         7,
         39807,
         "booked",
         83
        ],
        [
         "C052",
         "Rahul",
         "Hyderabad",
         "H101",
         "ITC Kakatiya",
         "Hyderabad",
         "B052",
         1,
         16896,
         "cancelled",
         67
        ],
        [
         "C053",
         "Mohit",
         "Mumbai",
         "H105",
         "Taj Mahal Palace",
         "Mumbai",
         "B053",
         5,
         40316,
         "booked",
         52
        ],
        [
         "C054",
         "Mohit",
         "Chennai",
         "H104",
         "ITC Grand Chola",
         "Chennai",
         "B054",
         9,
         17261,
         "booked",
         67
        ],
        [
         "C055",
         "Rahul",
         "Delhi",
         "H103",
         "The Oberoi",
         "Delhi",
         "B055",
         6,
         3751,
         "booked",
         58
        ],
        [
         "C056",
         "Divya",
         "Mumbai",
         "H105",
         "Taj Mahal Palace",
         "Mumbai",
         "B056",
         4,
         32867,
         "cancelled",
         75
        ],
        [
         "C057",
         "Anjali",
         "Bangalore",
         "H102",
         "The Leela Palace",
         "Bangalore",
         "B057",
         5,
         25125,
         "cancelled",
         100
        ],
        [
         "C058",
         "Kavya",
         "Pune",
         "H106",
         "Marriott",
         "Pune",
         "B058",
         4,
         10610,
         "cancelled",
         58
        ],
        [
         "C059",
         "Vikas",
         "Delhi",
         "H103",
         "Hyatt Regency",
         "Delhi",
         "B059",
         6,
         14906,
         "booked",
         70
        ],
        [
         "C060",
         "Kavya",
         "Bangalore",
         "H102",
         "Taj West End",
         "Bangalore",
         "B060",
         7,
         20707,
         "booked",
         63
        ],
        [
         "C061",
         "Lakshmi",
         "Hyderabad",
         "H101",
         "Novotel",
         "Hyderabad",
         "B061",
         1,
         40843,
         "booked",
         93
        ],
        [
         "C062",
         "Vikas",
         "Delhi",
         "H103",
         "Leela Palace",
         "Delhi",
         "B062",
         3,
         11152,
         "cancelled",
         95
        ],
        [
         "C063",
         "Kavya",
         "Chennai",
         "H104",
         "Hyatt Regency",
         "Chennai",
         "B063",
         3,
         15056,
         "booked",
         72
        ],
        [
         "C064",
         "Vikas",
         "Mumbai",
         "H105",
         "JW Marriott",
         "Mumbai",
         "B064",
         9,
         19283,
         "cancelled",
         71
        ],
        [
         "C065",
         "Anjali",
         "Mumbai",
         "H105",
         "Taj Mahal Palace",
         "Mumbai",
         "B065",
         10,
         19819,
         "cancelled",
         77
        ],
        [
         "C066",
         "Divya",
         "Pune",
         "H106",
         "Hyatt",
         "Pune",
         "B066",
         7,
         36530,
         "cancelled",
         78
        ],
        [
         "C067",
         "Mohit",
         "Hyderabad",
         "H101",
         "ITC Kakatiya",
         "Hyderabad",
         "B067",
         7,
         13073,
         "booked",
         74
        ],
        [
         "C068",
         "Lakshmi",
         "Hyderabad",
         "H101",
         "Novotel",
         "Hyderabad",
         "B068",
         7,
         37474,
         "booked",
         87
        ],
        [
         "C069",
         "Sneha",
         "Hyderabad",
         "H101",
         "Taj Krishna",
         "Hyderabad",
         "B069",
         10,
         12635,
         "booked",
         82
        ],
        [
         "C070",
         "Meena",
         "Hyderabad",
         "H101",
         "Novotel",
         "Hyderabad",
         "B070",
         2,
         2716,
         "cancelled",
         63
        ],
        [
         "C071",
         "Kavya",
         "Delhi",
         "H103",
         "The Oberoi",
         "Delhi",
         "B071",
         4,
         13774,
         "booked",
         93
        ],
        [
         "C072",
         "Divya",
         "Delhi",
         "H103",
         "Leela Palace",
         "Delhi",
         "B072",
         10,
         38936,
         "cancelled",
         56
        ],
        [
         "C073",
         "Daniel",
         "Hyderabad",
         "H101",
         "Taj Krishna",
         "Hyderabad",
         "B073",
         9,
         11075,
         "booked",
         75
        ],
        [
         "C074",
         "John",
         "Mumbai",
         "H105",
         "The Oberoi",
         "Mumbai",
         "B074",
         8,
         37971,
         "cancelled",
         54
        ],
        [
         "C075",
         "Neha",
         "Pune",
         "H106",
         "Marriott",
         "Pune",
         "B075",
         9,
         46701,
         "cancelled",
         50
        ]
       ],
       "datasetInfos": [],
       "dbfsResultPath": null,
       "isJsonSchema": true,
       "metadata": {},
       "overflow": false,
       "plotOptions": {
        "customPlotOptions": {},
        "displayType": "table",
        "pivotAggregation": null,
        "pivotColumns": null,
        "xColumns": null,
        "yColumns": null
       },
       "removedWidgets": [],
       "schema": [
        {
         "metadata": "{}",
         "name": "customer_id",
         "type": "\"string\""
        },
        {
         "metadata": "{}",
         "name": "customer_name",
         "type": "\"string\""
        },
        {
         "metadata": "{}",
         "name": "city",
         "type": "\"string\""
        },
        {
         "metadata": "{}",
         "name": "hotel_id",
         "type": "\"string\""
        },
        {
         "metadata": "{}",
         "name": "hotel_name",
         "type": "\"string\""
        },
        {
         "metadata": "{}",
         "name": "hotel_location",
         "type": "\"string\""
        },
        {
         "metadata": "{}",
         "name": "booking_id",
         "type": "\"string\""
        },
        {
         "metadata": "{}",
         "name": "stay_duration",
         "type": "\"long\""
        },
        {
         "metadata": "{}",
         "name": "amount_spent",
         "type": "\"long\""
        },
        {
         "metadata": "{}",
         "name": "status",
         "type": "\"string\""
        },
        {
         "metadata": "{}",
         "name": "rating",
         "type": "\"long\""
        }
       ],
       "type": "table"
      }
     },
     "output_type": "display_data"
    }
   ],
   "source": [
    "%python\n",
    "\n",
    "df = spark.table(\"travel_bookings\")  # e.g., spark.table(\"default.matches\")\n",
    "df.printSchema()\n",
    "df.display()"
   ]
  },
  {
   "cell_type": "code",
   "execution_count": 0,
   "metadata": {
    "application/vnd.databricks.v1+cell": {
     "cellMetadata": {
      "byteLimit": 2048000,
      "rowLimit": 10000
     },
     "inputWidgets": {},
     "nuid": "2b89530a-5958-4ad0-ad15-88d82c64301e",
     "showTitle": false,
     "tableResultSettingsMap": {},
     "title": ""
    }
   },
   "outputs": [
    {
     "output_type": "stream",
     "name": "stdout",
     "output_type": "stream",
     "text": [
      "root\n |-- customer_id: string (nullable = true)\n |-- customer_name: string (nullable = true)\n |-- city: string (nullable = true)\n |-- hotel_id: string (nullable = true)\n |-- hotel_name: string (nullable = true)\n |-- hotel_location: string (nullable = true)\n |-- booking_id: string (nullable = true)\n |-- stay_duration: long (nullable = true)\n |-- amount_spent: long (nullable = true)\n |-- status: string (nullable = true)\n |-- rating: long (nullable = true)\n\n"
     ]
    },
    {
     "output_type": "display_data",
     "data": {
      "text/html": [
       "<style scoped>\n",
       "  .table-result-container {\n",
       "    max-height: 300px;\n",
       "    overflow: auto;\n",
       "  }\n",
       "  table, th, td {\n",
       "    border: 1px solid black;\n",
       "    border-collapse: collapse;\n",
       "  }\n",
       "  th, td {\n",
       "    padding: 5px;\n",
       "  }\n",
       "  th {\n",
       "    text-align: left;\n",
       "  }\n",
       "</style><div class='table-result-container'><table class='table-result'><thead style='background-color: white'><tr><th>customer_id</th><th>customer_name</th><th>city</th><th>hotel_id</th><th>hotel_name</th><th>hotel_location</th><th>booking_id</th><th>stay_duration</th><th>amount_spent</th><th>status</th><th>rating</th></tr></thead><tbody><tr><td>C001</td><td>Neha</td><td>Pune</td><td>H106</td><td>Conrad</td><td>Pune</td><td>B001</td><td>5</td><td>35140</td><td>cancelled</td><td>94</td></tr><tr><td>C002</td><td>John</td><td>Hyderabad</td><td>H101</td><td>Taj Krishna</td><td>Hyderabad</td><td>B002</td><td>7</td><td>42158</td><td>cancelled</td><td>91</td></tr><tr><td>C003</td><td>Vikas</td><td>Pune</td><td>H106</td><td>Conrad</td><td>Pune</td><td>B003</td><td>1</td><td>36451</td><td>booked</td><td>60</td></tr><tr><td>C004</td><td>Sneha</td><td>Pune</td><td>H106</td><td>Hyatt</td><td>Pune</td><td>B004</td><td>8</td><td>18071</td><td>booked</td><td>70</td></tr><tr><td>C005</td><td>Sneha</td><td>Pune</td><td>H106</td><td>Marriott</td><td>Pune</td><td>B005</td><td>10</td><td>44743</td><td>booked</td><td>96</td></tr><tr><td>C006</td><td>Sara</td><td>Chennai</td><td>H104</td><td>ITC Grand Chola</td><td>Chennai</td><td>B006</td><td>10</td><td>43222</td><td>cancelled</td><td>79</td></tr><tr><td>C007</td><td>Ramesh</td><td>Delhi</td><td>H103</td><td>Leela Palace</td><td>Delhi</td><td>B007</td><td>7</td><td>44116</td><td>booked</td><td>51</td></tr><tr><td>C008</td><td>Aditi</td><td>Hyderabad</td><td>H101</td><td>Novotel</td><td>Hyderabad</td><td>B008</td><td>6</td><td>26642</td><td>booked</td><td>94</td></tr><tr><td>C009</td><td>Rahul</td><td>Chennai</td><td>H104</td><td>Taj Coromandel</td><td>Chennai</td><td>B009</td><td>6</td><td>45354</td><td>booked</td><td>64</td></tr><tr><td>C010</td><td>John</td><td>Hyderabad</td><td>H101</td><td>Novotel</td><td>Hyderabad</td><td>B010</td><td>8</td><td>14850</td><td>cancelled</td><td>59</td></tr><tr><td>C011</td><td>Anjali</td><td>Hyderabad</td><td>H101</td><td>Novotel</td><td>Hyderabad</td><td>B011</td><td>2</td><td>49977</td><td>cancelled</td><td>58</td></tr><tr><td>C012</td><td>Kavya</td><td>Bangalore</td><td>H102</td><td>Taj West End</td><td>Bangalore</td><td>B012</td><td>6</td><td>18878</td><td>cancelled</td><td>59</td></tr><tr><td>C013</td><td>Neha</td><td>Chennai</td><td>H104</td><td>ITC Grand Chola</td><td>Chennai</td><td>B013</td><td>1</td><td>15240</td><td>booked</td><td>98</td></tr><tr><td>C014</td><td>Sneha</td><td>Bangalore</td><td>H102</td><td>ITC Gardenia</td><td>Bangalore</td><td>B014</td><td>2</td><td>48622</td><td>cancelled</td><td>56</td></tr><tr><td>C015</td><td>Mohit</td><td>Mumbai</td><td>H105</td><td>Taj Mahal Palace</td><td>Mumbai</td><td>B015</td><td>2</td><td>27004</td><td>booked</td><td>59</td></tr><tr><td>C016</td><td>Divya</td><td>Pune</td><td>H106</td><td>Conrad</td><td>Pune</td><td>B016</td><td>9</td><td>9594</td><td>booked</td><td>56</td></tr><tr><td>C017</td><td>Divya</td><td>Pune</td><td>H106</td><td>Conrad</td><td>Pune</td><td>B017</td><td>10</td><td>18108</td><td>cancelled</td><td>82</td></tr><tr><td>C018</td><td>Anjali</td><td>Chennai</td><td>H104</td><td>Hyatt Regency</td><td>Chennai</td><td>B018</td><td>8</td><td>43128</td><td>cancelled</td><td>57</td></tr><tr><td>C019</td><td>Meena</td><td>Bangalore</td><td>H102</td><td>Taj West End</td><td>Bangalore</td><td>B019</td><td>3</td><td>31185</td><td>cancelled</td><td>69</td></tr><tr><td>C020</td><td>Lakshmi</td><td>Hyderabad</td><td>H101</td><td>Taj Krishna</td><td>Hyderabad</td><td>B020</td><td>1</td><td>16617</td><td>cancelled</td><td>83</td></tr><tr><td>C021</td><td>Kavya</td><td>Hyderabad</td><td>H101</td><td>ITC Kakatiya</td><td>Hyderabad</td><td>B021</td><td>8</td><td>17367</td><td>cancelled</td><td>61</td></tr><tr><td>C022</td><td>Rahul</td><td>Pune</td><td>H106</td><td>Marriott</td><td>Pune</td><td>B022</td><td>8</td><td>49452</td><td>cancelled</td><td>51</td></tr><tr><td>C023</td><td>Vijay</td><td>Hyderabad</td><td>H101</td><td>ITC Kakatiya</td><td>Hyderabad</td><td>B023</td><td>4</td><td>48939</td><td>cancelled</td><td>89</td></tr><tr><td>C024</td><td>Arun</td><td>Delhi</td><td>H103</td><td>Hyatt Regency</td><td>Delhi</td><td>B024</td><td>6</td><td>16779</td><td>booked</td><td>71</td></tr><tr><td>C025</td><td>John</td><td>Bangalore</td><td>H102</td><td>ITC Gardenia</td><td>Bangalore</td><td>B025</td><td>10</td><td>6604</td><td>cancelled</td><td>66</td></tr><tr><td>C026</td><td>Rahul</td><td>Mumbai</td><td>H105</td><td>JW Marriott</td><td>Mumbai</td><td>B026</td><td>4</td><td>46048</td><td>cancelled</td><td>65</td></tr><tr><td>C027</td><td>Mohit</td><td>Pune</td><td>H106</td><td>Hyatt</td><td>Pune</td><td>B027</td><td>7</td><td>18928</td><td>cancelled</td><td>81</td></tr><tr><td>C028</td><td>Mohit</td><td>Chennai</td><td>H104</td><td>Taj Coromandel</td><td>Chennai</td><td>B028</td><td>7</td><td>41980</td><td>booked</td><td>76</td></tr><tr><td>C029</td><td>Arun</td><td>Hyderabad</td><td>H101</td><td>ITC Kakatiya</td><td>Hyderabad</td><td>B029</td><td>7</td><td>29111</td><td>booked</td><td>66</td></tr><tr><td>C030</td><td>Meena</td><td>Chennai</td><td>H104</td><td>Hyatt Regency</td><td>Chennai</td><td>B030</td><td>10</td><td>44262</td><td>booked</td><td>89</td></tr><tr><td>C031</td><td>Rahul</td><td>Hyderabad</td><td>H101</td><td>ITC Kakatiya</td><td>Hyderabad</td><td>B031</td><td>9</td><td>42642</td><td>cancelled</td><td>50</td></tr><tr><td>C032</td><td>Anjali</td><td>Pune</td><td>H106</td><td>Conrad</td><td>Pune</td><td>B032</td><td>8</td><td>5207</td><td>cancelled</td><td>91</td></tr><tr><td>C033</td><td>Vikas</td><td>Hyderabad</td><td>H101</td><td>Novotel</td><td>Hyderabad</td><td>B033</td><td>8</td><td>42053</td><td>booked</td><td>89</td></tr><tr><td>C034</td><td>Sneha</td><td>Hyderabad</td><td>H101</td><td>Taj Krishna</td><td>Hyderabad</td><td>B034</td><td>10</td><td>38836</td><td>cancelled</td><td>91</td></tr><tr><td>C035</td><td>Divya</td><td>Bangalore</td><td>H102</td><td>ITC Gardenia</td><td>Bangalore</td><td>B035</td><td>2</td><td>4961</td><td>cancelled</td><td>93</td></tr><tr><td>C036</td><td>Lakshmi</td><td>Mumbai</td><td>H105</td><td>The Oberoi</td><td>Mumbai</td><td>B036</td><td>8</td><td>38408</td><td>booked</td><td>56</td></tr><tr><td>C037</td><td>Anjali</td><td>Mumbai</td><td>H105</td><td>JW Marriott</td><td>Mumbai</td><td>B037</td><td>10</td><td>35912</td><td>cancelled</td><td>75</td></tr><tr><td>C038</td><td>Ramesh</td><td>Bangalore</td><td>H102</td><td>Taj West End</td><td>Bangalore</td><td>B038</td><td>1</td><td>35937</td><td>booked</td><td>91</td></tr><tr><td>C039</td><td>Divya</td><td>Bangalore</td><td>H102</td><td>Taj West End</td><td>Bangalore</td><td>B039</td><td>8</td><td>45404</td><td>booked</td><td>95</td></tr><tr><td>C040</td><td>Sneha</td><td>Bangalore</td><td>H102</td><td>ITC Gardenia</td><td>Bangalore</td><td>B040</td><td>10</td><td>20713</td><td>booked</td><td>74</td></tr><tr><td>C041</td><td>Divya</td><td>Delhi</td><td>H103</td><td>Leela Palace</td><td>Delhi</td><td>B041</td><td>7</td><td>30019</td><td>cancelled</td><td>96</td></tr><tr><td>C042</td><td>Priya</td><td>Delhi</td><td>H103</td><td>Leela Palace</td><td>Delhi</td><td>B042</td><td>3</td><td>41181</td><td>booked</td><td>84</td></tr><tr><td>C043</td><td>Vijay</td><td>Hyderabad</td><td>H101</td><td>Taj Krishna</td><td>Hyderabad</td><td>B043</td><td>10</td><td>4872</td><td>booked</td><td>94</td></tr><tr><td>C044</td><td>Meena</td><td>Chennai</td><td>H104</td><td>ITC Grand Chola</td><td>Chennai</td><td>B044</td><td>3</td><td>29400</td><td>cancelled</td><td>77</td></tr><tr><td>C045</td><td>Aditi</td><td>Bangalore</td><td>H102</td><td>ITC Gardenia</td><td>Bangalore</td><td>B045</td><td>8</td><td>23299</td><td>booked</td><td>74</td></tr><tr><td>C046</td><td>Kavya</td><td>Mumbai</td><td>H105</td><td>Taj Mahal Palace</td><td>Mumbai</td><td>B046</td><td>10</td><td>19525</td><td>booked</td><td>55</td></tr><tr><td>C047</td><td>John</td><td>Delhi</td><td>H103</td><td>Leela Palace</td><td>Delhi</td><td>B047</td><td>6</td><td>39452</td><td>cancelled</td><td>66</td></tr><tr><td>C048</td><td>Daniel</td><td>Chennai</td><td>H104</td><td>ITC Grand Chola</td><td>Chennai</td><td>B048</td><td>4</td><td>32524</td><td>booked</td><td>83</td></tr><tr><td>C049</td><td>Vikas</td><td>Chennai</td><td>H104</td><td>ITC Grand Chola</td><td>Chennai</td><td>B049</td><td>6</td><td>43827</td><td>booked</td><td>55</td></tr><tr><td>C050</td><td>John</td><td>Hyderabad</td><td>H101</td><td>Novotel</td><td>Hyderabad</td><td>B050</td><td>5</td><td>48160</td><td>cancelled</td><td>90</td></tr><tr><td>C051</td><td>Sara</td><td>Delhi</td><td>H103</td><td>Hyatt Regency</td><td>Delhi</td><td>B051</td><td>7</td><td>39807</td><td>booked</td><td>83</td></tr><tr><td>C052</td><td>Rahul</td><td>Hyderabad</td><td>H101</td><td>ITC Kakatiya</td><td>Hyderabad</td><td>B052</td><td>1</td><td>16896</td><td>cancelled</td><td>67</td></tr><tr><td>C053</td><td>Mohit</td><td>Mumbai</td><td>H105</td><td>Taj Mahal Palace</td><td>Mumbai</td><td>B053</td><td>5</td><td>40316</td><td>booked</td><td>52</td></tr><tr><td>C054</td><td>Mohit</td><td>Chennai</td><td>H104</td><td>ITC Grand Chola</td><td>Chennai</td><td>B054</td><td>9</td><td>17261</td><td>booked</td><td>67</td></tr><tr><td>C055</td><td>Rahul</td><td>Delhi</td><td>H103</td><td>The Oberoi</td><td>Delhi</td><td>B055</td><td>6</td><td>3751</td><td>booked</td><td>58</td></tr><tr><td>C056</td><td>Divya</td><td>Mumbai</td><td>H105</td><td>Taj Mahal Palace</td><td>Mumbai</td><td>B056</td><td>4</td><td>32867</td><td>cancelled</td><td>75</td></tr><tr><td>C057</td><td>Anjali</td><td>Bangalore</td><td>H102</td><td>The Leela Palace</td><td>Bangalore</td><td>B057</td><td>5</td><td>25125</td><td>cancelled</td><td>100</td></tr><tr><td>C058</td><td>Kavya</td><td>Pune</td><td>H106</td><td>Marriott</td><td>Pune</td><td>B058</td><td>4</td><td>10610</td><td>cancelled</td><td>58</td></tr><tr><td>C059</td><td>Vikas</td><td>Delhi</td><td>H103</td><td>Hyatt Regency</td><td>Delhi</td><td>B059</td><td>6</td><td>14906</td><td>booked</td><td>70</td></tr><tr><td>C060</td><td>Kavya</td><td>Bangalore</td><td>H102</td><td>Taj West End</td><td>Bangalore</td><td>B060</td><td>7</td><td>20707</td><td>booked</td><td>63</td></tr><tr><td>C061</td><td>Lakshmi</td><td>Hyderabad</td><td>H101</td><td>Novotel</td><td>Hyderabad</td><td>B061</td><td>1</td><td>40843</td><td>booked</td><td>93</td></tr><tr><td>C062</td><td>Vikas</td><td>Delhi</td><td>H103</td><td>Leela Palace</td><td>Delhi</td><td>B062</td><td>3</td><td>11152</td><td>cancelled</td><td>95</td></tr><tr><td>C063</td><td>Kavya</td><td>Chennai</td><td>H104</td><td>Hyatt Regency</td><td>Chennai</td><td>B063</td><td>3</td><td>15056</td><td>booked</td><td>72</td></tr><tr><td>C064</td><td>Vikas</td><td>Mumbai</td><td>H105</td><td>JW Marriott</td><td>Mumbai</td><td>B064</td><td>9</td><td>19283</td><td>cancelled</td><td>71</td></tr><tr><td>C065</td><td>Anjali</td><td>Mumbai</td><td>H105</td><td>Taj Mahal Palace</td><td>Mumbai</td><td>B065</td><td>10</td><td>19819</td><td>cancelled</td><td>77</td></tr><tr><td>C066</td><td>Divya</td><td>Pune</td><td>H106</td><td>Hyatt</td><td>Pune</td><td>B066</td><td>7</td><td>36530</td><td>cancelled</td><td>78</td></tr><tr><td>C067</td><td>Mohit</td><td>Hyderabad</td><td>H101</td><td>ITC Kakatiya</td><td>Hyderabad</td><td>B067</td><td>7</td><td>13073</td><td>booked</td><td>74</td></tr><tr><td>C068</td><td>Lakshmi</td><td>Hyderabad</td><td>H101</td><td>Novotel</td><td>Hyderabad</td><td>B068</td><td>7</td><td>37474</td><td>booked</td><td>87</td></tr><tr><td>C069</td><td>Sneha</td><td>Hyderabad</td><td>H101</td><td>Taj Krishna</td><td>Hyderabad</td><td>B069</td><td>10</td><td>12635</td><td>booked</td><td>82</td></tr><tr><td>C070</td><td>Meena</td><td>Hyderabad</td><td>H101</td><td>Novotel</td><td>Hyderabad</td><td>B070</td><td>2</td><td>2716</td><td>cancelled</td><td>63</td></tr><tr><td>C071</td><td>Kavya</td><td>Delhi</td><td>H103</td><td>The Oberoi</td><td>Delhi</td><td>B071</td><td>4</td><td>13774</td><td>booked</td><td>93</td></tr><tr><td>C072</td><td>Divya</td><td>Delhi</td><td>H103</td><td>Leela Palace</td><td>Delhi</td><td>B072</td><td>10</td><td>38936</td><td>cancelled</td><td>56</td></tr><tr><td>C073</td><td>Daniel</td><td>Hyderabad</td><td>H101</td><td>Taj Krishna</td><td>Hyderabad</td><td>B073</td><td>9</td><td>11075</td><td>booked</td><td>75</td></tr><tr><td>C074</td><td>John</td><td>Mumbai</td><td>H105</td><td>The Oberoi</td><td>Mumbai</td><td>B074</td><td>8</td><td>37971</td><td>cancelled</td><td>54</td></tr><tr><td>C075</td><td>Neha</td><td>Pune</td><td>H106</td><td>Marriott</td><td>Pune</td><td>B075</td><td>9</td><td>46701</td><td>cancelled</td><td>50</td></tr></tbody></table></div>"
      ]
     },
     "metadata": {
      "application/vnd.databricks.v1+output": {
       "addedWidgets": {},
       "aggData": [],
       "aggError": "",
       "aggOverflow": false,
       "aggSchema": [],
       "aggSeriesLimitReached": false,
       "aggType": "",
       "arguments": {},
       "columnCustomDisplayInfos": {},
       "data": [
        [
         "C001",
         "Neha",
         "Pune",
         "H106",
         "Conrad",
         "Pune",
         "B001",
         5,
         35140,
         "cancelled",
         94
        ],
        [
         "C002",
         "John",
         "Hyderabad",
         "H101",
         "Taj Krishna",
         "Hyderabad",
         "B002",
         7,
         42158,
         "cancelled",
         91
        ],
        [
         "C003",
         "Vikas",
         "Pune",
         "H106",
         "Conrad",
         "Pune",
         "B003",
         1,
         36451,
         "booked",
         60
        ],
        [
         "C004",
         "Sneha",
         "Pune",
         "H106",
         "Hyatt",
         "Pune",
         "B004",
         8,
         18071,
         "booked",
         70
        ],
        [
         "C005",
         "Sneha",
         "Pune",
         "H106",
         "Marriott",
         "Pune",
         "B005",
         10,
         44743,
         "booked",
         96
        ],
        [
         "C006",
         "Sara",
         "Chennai",
         "H104",
         "ITC Grand Chola",
         "Chennai",
         "B006",
         10,
         43222,
         "cancelled",
         79
        ],
        [
         "C007",
         "Ramesh",
         "Delhi",
         "H103",
         "Leela Palace",
         "Delhi",
         "B007",
         7,
         44116,
         "booked",
         51
        ],
        [
         "C008",
         "Aditi",
         "Hyderabad",
         "H101",
         "Novotel",
         "Hyderabad",
         "B008",
         6,
         26642,
         "booked",
         94
        ],
        [
         "C009",
         "Rahul",
         "Chennai",
         "H104",
         "Taj Coromandel",
         "Chennai",
         "B009",
         6,
         45354,
         "booked",
         64
        ],
        [
         "C010",
         "John",
         "Hyderabad",
         "H101",
         "Novotel",
         "Hyderabad",
         "B010",
         8,
         14850,
         "cancelled",
         59
        ],
        [
         "C011",
         "Anjali",
         "Hyderabad",
         "H101",
         "Novotel",
         "Hyderabad",
         "B011",
         2,
         49977,
         "cancelled",
         58
        ],
        [
         "C012",
         "Kavya",
         "Bangalore",
         "H102",
         "Taj West End",
         "Bangalore",
         "B012",
         6,
         18878,
         "cancelled",
         59
        ],
        [
         "C013",
         "Neha",
         "Chennai",
         "H104",
         "ITC Grand Chola",
         "Chennai",
         "B013",
         1,
         15240,
         "booked",
         98
        ],
        [
         "C014",
         "Sneha",
         "Bangalore",
         "H102",
         "ITC Gardenia",
         "Bangalore",
         "B014",
         2,
         48622,
         "cancelled",
         56
        ],
        [
         "C015",
         "Mohit",
         "Mumbai",
         "H105",
         "Taj Mahal Palace",
         "Mumbai",
         "B015",
         2,
         27004,
         "booked",
         59
        ],
        [
         "C016",
         "Divya",
         "Pune",
         "H106",
         "Conrad",
         "Pune",
         "B016",
         9,
         9594,
         "booked",
         56
        ],
        [
         "C017",
         "Divya",
         "Pune",
         "H106",
         "Conrad",
         "Pune",
         "B017",
         10,
         18108,
         "cancelled",
         82
        ],
        [
         "C018",
         "Anjali",
         "Chennai",
         "H104",
         "Hyatt Regency",
         "Chennai",
         "B018",
         8,
         43128,
         "cancelled",
         57
        ],
        [
         "C019",
         "Meena",
         "Bangalore",
         "H102",
         "Taj West End",
         "Bangalore",
         "B019",
         3,
         31185,
         "cancelled",
         69
        ],
        [
         "C020",
         "Lakshmi",
         "Hyderabad",
         "H101",
         "Taj Krishna",
         "Hyderabad",
         "B020",
         1,
         16617,
         "cancelled",
         83
        ],
        [
         "C021",
         "Kavya",
         "Hyderabad",
         "H101",
         "ITC Kakatiya",
         "Hyderabad",
         "B021",
         8,
         17367,
         "cancelled",
         61
        ],
        [
         "C022",
         "Rahul",
         "Pune",
         "H106",
         "Marriott",
         "Pune",
         "B022",
         8,
         49452,
         "cancelled",
         51
        ],
        [
         "C023",
         "Vijay",
         "Hyderabad",
         "H101",
         "ITC Kakatiya",
         "Hyderabad",
         "B023",
         4,
         48939,
         "cancelled",
         89
        ],
        [
         "C024",
         "Arun",
         "Delhi",
         "H103",
         "Hyatt Regency",
         "Delhi",
         "B024",
         6,
         16779,
         "booked",
         71
        ],
        [
         "C025",
         "John",
         "Bangalore",
         "H102",
         "ITC Gardenia",
         "Bangalore",
         "B025",
         10,
         6604,
         "cancelled",
         66
        ],
        [
         "C026",
         "Rahul",
         "Mumbai",
         "H105",
         "JW Marriott",
         "Mumbai",
         "B026",
         4,
         46048,
         "cancelled",
         65
        ],
        [
         "C027",
         "Mohit",
         "Pune",
         "H106",
         "Hyatt",
         "Pune",
         "B027",
         7,
         18928,
         "cancelled",
         81
        ],
        [
         "C028",
         "Mohit",
         "Chennai",
         "H104",
         "Taj Coromandel",
         "Chennai",
         "B028",
         7,
         41980,
         "booked",
         76
        ],
        [
         "C029",
         "Arun",
         "Hyderabad",
         "H101",
         "ITC Kakatiya",
         "Hyderabad",
         "B029",
         7,
         29111,
         "booked",
         66
        ],
        [
         "C030",
         "Meena",
         "Chennai",
         "H104",
         "Hyatt Regency",
         "Chennai",
         "B030",
         10,
         44262,
         "booked",
         89
        ],
        [
         "C031",
         "Rahul",
         "Hyderabad",
         "H101",
         "ITC Kakatiya",
         "Hyderabad",
         "B031",
         9,
         42642,
         "cancelled",
         50
        ],
        [
         "C032",
         "Anjali",
         "Pune",
         "H106",
         "Conrad",
         "Pune",
         "B032",
         8,
         5207,
         "cancelled",
         91
        ],
        [
         "C033",
         "Vikas",
         "Hyderabad",
         "H101",
         "Novotel",
         "Hyderabad",
         "B033",
         8,
         42053,
         "booked",
         89
        ],
        [
         "C034",
         "Sneha",
         "Hyderabad",
         "H101",
         "Taj Krishna",
         "Hyderabad",
         "B034",
         10,
         38836,
         "cancelled",
         91
        ],
        [
         "C035",
         "Divya",
         "Bangalore",
         "H102",
         "ITC Gardenia",
         "Bangalore",
         "B035",
         2,
         4961,
         "cancelled",
         93
        ],
        [
         "C036",
         "Lakshmi",
         "Mumbai",
         "H105",
         "The Oberoi",
         "Mumbai",
         "B036",
         8,
         38408,
         "booked",
         56
        ],
        [
         "C037",
         "Anjali",
         "Mumbai",
         "H105",
         "JW Marriott",
         "Mumbai",
         "B037",
         10,
         35912,
         "cancelled",
         75
        ],
        [
         "C038",
         "Ramesh",
         "Bangalore",
         "H102",
         "Taj West End",
         "Bangalore",
         "B038",
         1,
         35937,
         "booked",
         91
        ],
        [
         "C039",
         "Divya",
         "Bangalore",
         "H102",
         "Taj West End",
         "Bangalore",
         "B039",
         8,
         45404,
         "booked",
         95
        ],
        [
         "C040",
         "Sneha",
         "Bangalore",
         "H102",
         "ITC Gardenia",
         "Bangalore",
         "B040",
         10,
         20713,
         "booked",
         74
        ],
        [
         "C041",
         "Divya",
         "Delhi",
         "H103",
         "Leela Palace",
         "Delhi",
         "B041",
         7,
         30019,
         "cancelled",
         96
        ],
        [
         "C042",
         "Priya",
         "Delhi",
         "H103",
         "Leela Palace",
         "Delhi",
         "B042",
         3,
         41181,
         "booked",
         84
        ],
        [
         "C043",
         "Vijay",
         "Hyderabad",
         "H101",
         "Taj Krishna",
         "Hyderabad",
         "B043",
         10,
         4872,
         "booked",
         94
        ],
        [
         "C044",
         "Meena",
         "Chennai",
         "H104",
         "ITC Grand Chola",
         "Chennai",
         "B044",
         3,
         29400,
         "cancelled",
         77
        ],
        [
         "C045",
         "Aditi",
         "Bangalore",
         "H102",
         "ITC Gardenia",
         "Bangalore",
         "B045",
         8,
         23299,
         "booked",
         74
        ],
        [
         "C046",
         "Kavya",
         "Mumbai",
         "H105",
         "Taj Mahal Palace",
         "Mumbai",
         "B046",
         10,
         19525,
         "booked",
         55
        ],
        [
         "C047",
         "John",
         "Delhi",
         "H103",
         "Leela Palace",
         "Delhi",
         "B047",
         6,
         39452,
         "cancelled",
         66
        ],
        [
         "C048",
         "Daniel",
         "Chennai",
         "H104",
         "ITC Grand Chola",
         "Chennai",
         "B048",
         4,
         32524,
         "booked",
         83
        ],
        [
         "C049",
         "Vikas",
         "Chennai",
         "H104",
         "ITC Grand Chola",
         "Chennai",
         "B049",
         6,
         43827,
         "booked",
         55
        ],
        [
         "C050",
         "John",
         "Hyderabad",
         "H101",
         "Novotel",
         "Hyderabad",
         "B050",
         5,
         48160,
         "cancelled",
         90
        ],
        [
         "C051",
         "Sara",
         "Delhi",
         "H103",
         "Hyatt Regency",
         "Delhi",
         "B051",
         7,
         39807,
         "booked",
         83
        ],
        [
         "C052",
         "Rahul",
         "Hyderabad",
         "H101",
         "ITC Kakatiya",
         "Hyderabad",
         "B052",
         1,
         16896,
         "cancelled",
         67
        ],
        [
         "C053",
         "Mohit",
         "Mumbai",
         "H105",
         "Taj Mahal Palace",
         "Mumbai",
         "B053",
         5,
         40316,
         "booked",
         52
        ],
        [
         "C054",
         "Mohit",
         "Chennai",
         "H104",
         "ITC Grand Chola",
         "Chennai",
         "B054",
         9,
         17261,
         "booked",
         67
        ],
        [
         "C055",
         "Rahul",
         "Delhi",
         "H103",
         "The Oberoi",
         "Delhi",
         "B055",
         6,
         3751,
         "booked",
         58
        ],
        [
         "C056",
         "Divya",
         "Mumbai",
         "H105",
         "Taj Mahal Palace",
         "Mumbai",
         "B056",
         4,
         32867,
         "cancelled",
         75
        ],
        [
         "C057",
         "Anjali",
         "Bangalore",
         "H102",
         "The Leela Palace",
         "Bangalore",
         "B057",
         5,
         25125,
         "cancelled",
         100
        ],
        [
         "C058",
         "Kavya",
         "Pune",
         "H106",
         "Marriott",
         "Pune",
         "B058",
         4,
         10610,
         "cancelled",
         58
        ],
        [
         "C059",
         "Vikas",
         "Delhi",
         "H103",
         "Hyatt Regency",
         "Delhi",
         "B059",
         6,
         14906,
         "booked",
         70
        ],
        [
         "C060",
         "Kavya",
         "Bangalore",
         "H102",
         "Taj West End",
         "Bangalore",
         "B060",
         7,
         20707,
         "booked",
         63
        ],
        [
         "C061",
         "Lakshmi",
         "Hyderabad",
         "H101",
         "Novotel",
         "Hyderabad",
         "B061",
         1,
         40843,
         "booked",
         93
        ],
        [
         "C062",
         "Vikas",
         "Delhi",
         "H103",
         "Leela Palace",
         "Delhi",
         "B062",
         3,
         11152,
         "cancelled",
         95
        ],
        [
         "C063",
         "Kavya",
         "Chennai",
         "H104",
         "Hyatt Regency",
         "Chennai",
         "B063",
         3,
         15056,
         "booked",
         72
        ],
        [
         "C064",
         "Vikas",
         "Mumbai",
         "H105",
         "JW Marriott",
         "Mumbai",
         "B064",
         9,
         19283,
         "cancelled",
         71
        ],
        [
         "C065",
         "Anjali",
         "Mumbai",
         "H105",
         "Taj Mahal Palace",
         "Mumbai",
         "B065",
         10,
         19819,
         "cancelled",
         77
        ],
        [
         "C066",
         "Divya",
         "Pune",
         "H106",
         "Hyatt",
         "Pune",
         "B066",
         7,
         36530,
         "cancelled",
         78
        ],
        [
         "C067",
         "Mohit",
         "Hyderabad",
         "H101",
         "ITC Kakatiya",
         "Hyderabad",
         "B067",
         7,
         13073,
         "booked",
         74
        ],
        [
         "C068",
         "Lakshmi",
         "Hyderabad",
         "H101",
         "Novotel",
         "Hyderabad",
         "B068",
         7,
         37474,
         "booked",
         87
        ],
        [
         "C069",
         "Sneha",
         "Hyderabad",
         "H101",
         "Taj Krishna",
         "Hyderabad",
         "B069",
         10,
         12635,
         "booked",
         82
        ],
        [
         "C070",
         "Meena",
         "Hyderabad",
         "H101",
         "Novotel",
         "Hyderabad",
         "B070",
         2,
         2716,
         "cancelled",
         63
        ],
        [
         "C071",
         "Kavya",
         "Delhi",
         "H103",
         "The Oberoi",
         "Delhi",
         "B071",
         4,
         13774,
         "booked",
         93
        ],
        [
         "C072",
         "Divya",
         "Delhi",
         "H103",
         "Leela Palace",
         "Delhi",
         "B072",
         10,
         38936,
         "cancelled",
         56
        ],
        [
         "C073",
         "Daniel",
         "Hyderabad",
         "H101",
         "Taj Krishna",
         "Hyderabad",
         "B073",
         9,
         11075,
         "booked",
         75
        ],
        [
         "C074",
         "John",
         "Mumbai",
         "H105",
         "The Oberoi",
         "Mumbai",
         "B074",
         8,
         37971,
         "cancelled",
         54
        ],
        [
         "C075",
         "Neha",
         "Pune",
         "H106",
         "Marriott",
         "Pune",
         "B075",
         9,
         46701,
         "cancelled",
         50
        ]
       ],
       "datasetInfos": [],
       "dbfsResultPath": null,
       "isJsonSchema": true,
       "metadata": {},
       "overflow": false,
       "plotOptions": {
        "customPlotOptions": {},
        "displayType": "table",
        "pivotAggregation": null,
        "pivotColumns": null,
        "xColumns": null,
        "yColumns": null
       },
       "removedWidgets": [],
       "schema": [
        {
         "metadata": "{}",
         "name": "customer_id",
         "type": "\"string\""
        },
        {
         "metadata": "{}",
         "name": "customer_name",
         "type": "\"string\""
        },
        {
         "metadata": "{}",
         "name": "city",
         "type": "\"string\""
        },
        {
         "metadata": "{}",
         "name": "hotel_id",
         "type": "\"string\""
        },
        {
         "metadata": "{}",
         "name": "hotel_name",
         "type": "\"string\""
        },
        {
         "metadata": "{}",
         "name": "hotel_location",
         "type": "\"string\""
        },
        {
         "metadata": "{}",
         "name": "booking_id",
         "type": "\"string\""
        },
        {
         "metadata": "{}",
         "name": "stay_duration",
         "type": "\"long\""
        },
        {
         "metadata": "{}",
         "name": "amount_spent",
         "type": "\"long\""
        },
        {
         "metadata": "{}",
         "name": "status",
         "type": "\"string\""
        },
        {
         "metadata": "{}",
         "name": "rating",
         "type": "\"long\""
        }
       ],
       "type": "table"
      }
     },
     "output_type": "display_data"
    },
    {
     "output_type": "display_data",
     "data": {
      "text/html": [
       "<style scoped>\n",
       "  .table-result-container {\n",
       "    max-height: 300px;\n",
       "    overflow: auto;\n",
       "  }\n",
       "  table, th, td {\n",
       "    border: 1px solid black;\n",
       "    border-collapse: collapse;\n",
       "  }\n",
       "  th, td {\n",
       "    padding: 5px;\n",
       "  }\n",
       "  th {\n",
       "    text-align: left;\n",
       "  }\n",
       "</style><div class='table-result-container'><table class='table-result'><thead style='background-color: white'><tr><th>total_revenue</th></tr></thead><tbody><tr><td>2150186</td></tr></tbody></table></div>"
      ]
     },
     "metadata": {
      "application/vnd.databricks.v1+output": {
       "addedWidgets": {},
       "aggData": [],
       "aggError": "",
       "aggOverflow": false,
       "aggSchema": [],
       "aggSeriesLimitReached": false,
       "aggType": "",
       "arguments": {},
       "columnCustomDisplayInfos": {},
       "data": [
        [
         2150186
        ]
       ],
       "datasetInfos": [],
       "dbfsResultPath": null,
       "isJsonSchema": true,
       "metadata": {},
       "overflow": false,
       "plotOptions": {
        "customPlotOptions": {},
        "displayType": "table",
        "pivotAggregation": null,
        "pivotColumns": null,
        "xColumns": null,
        "yColumns": null
       },
       "removedWidgets": [],
       "schema": [
        {
         "metadata": "{}",
         "name": "total_revenue",
         "type": "\"long\""
        }
       ],
       "type": "table"
      }
     },
     "output_type": "display_data"
    },
    {
     "output_type": "display_data",
     "data": {
      "text/html": [
       "<style scoped>\n",
       "  .table-result-container {\n",
       "    max-height: 300px;\n",
       "    overflow: auto;\n",
       "  }\n",
       "  table, th, td {\n",
       "    border: 1px solid black;\n",
       "    border-collapse: collapse;\n",
       "  }\n",
       "  th, td {\n",
       "    padding: 5px;\n",
       "  }\n",
       "  th {\n",
       "    text-align: left;\n",
       "  }\n",
       "</style><div class='table-result-container'><table class='table-result'><thead style='background-color: white'><tr><th>city</th><th>avg_stay_duration</th></tr></thead><tbody><tr><td>Bangalore</td><td>5.636363636363637</td></tr><tr><td>Chennai</td><td>6.090909090909091</td></tr><tr><td>Delhi</td><td>5.909090909090909</td></tr><tr><td>Mumbai</td><td>7.0</td></tr><tr><td>Pune</td><td>7.166666666666667</td></tr><tr><td>Hyderabad</td><td>6.1</td></tr></tbody></table></div>"
      ]
     },
     "metadata": {
      "application/vnd.databricks.v1+output": {
       "addedWidgets": {},
       "aggData": [],
       "aggError": "",
       "aggOverflow": false,
       "aggSchema": [],
       "aggSeriesLimitReached": false,
       "aggType": "",
       "arguments": {},
       "columnCustomDisplayInfos": {},
       "data": [
        [
         "Bangalore",
         5.636363636363637
        ],
        [
         "Chennai",
         6.090909090909091
        ],
        [
         "Delhi",
         5.909090909090909
        ],
        [
         "Mumbai",
         7.0
        ],
        [
         "Pune",
         7.166666666666667
        ],
        [
         "Hyderabad",
         6.1
        ]
       ],
       "datasetInfos": [],
       "dbfsResultPath": null,
       "isJsonSchema": true,
       "metadata": {},
       "overflow": false,
       "plotOptions": {
        "customPlotOptions": {},
        "displayType": "table",
        "pivotAggregation": null,
        "pivotColumns": null,
        "xColumns": null,
        "yColumns": null
       },
       "removedWidgets": [],
       "schema": [
        {
         "metadata": "{}",
         "name": "city",
         "type": "\"string\""
        },
        {
         "metadata": "{}",
         "name": "avg_stay_duration",
         "type": "\"double\""
        }
       ],
       "type": "table"
      }
     },
     "output_type": "display_data"
    },
    {
     "output_type": "display_data",
     "data": {
      "text/html": [
       "<style scoped>\n",
       "  .table-result-container {\n",
       "    max-height: 300px;\n",
       "    overflow: auto;\n",
       "  }\n",
       "  table, th, td {\n",
       "    border: 1px solid black;\n",
       "    border-collapse: collapse;\n",
       "  }\n",
       "  th, td {\n",
       "    padding: 5px;\n",
       "  }\n",
       "  th {\n",
       "    text-align: left;\n",
       "  }\n",
       "</style><div class='table-result-container'><table class='table-result'><thead style='background-color: white'><tr><th>status</th><th>total_bookings</th></tr></thead><tbody><tr><td>booked</td><td>37</td></tr><tr><td>cancelled</td><td>38</td></tr></tbody></table></div>"
      ]
     },
     "metadata": {
      "application/vnd.databricks.v1+output": {
       "addedWidgets": {},
       "aggData": [],
       "aggError": "",
       "aggOverflow": false,
       "aggSchema": [],
       "aggSeriesLimitReached": false,
       "aggType": "",
       "arguments": {},
       "columnCustomDisplayInfos": {},
       "data": [
        [
         "booked",
         37
        ],
        [
         "cancelled",
         38
        ]
       ],
       "datasetInfos": [],
       "dbfsResultPath": null,
       "isJsonSchema": true,
       "metadata": {},
       "overflow": false,
       "plotOptions": {
        "customPlotOptions": {},
        "displayType": "table",
        "pivotAggregation": null,
        "pivotColumns": null,
        "xColumns": null,
        "yColumns": null
       },
       "removedWidgets": [],
       "schema": [
        {
         "metadata": "{}",
         "name": "status",
         "type": "\"string\""
        },
        {
         "metadata": "{}",
         "name": "total_bookings",
         "type": "\"long\""
        }
       ],
       "type": "table"
      }
     },
     "output_type": "display_data"
    },
    {
     "output_type": "display_data",
     "data": {
      "text/html": [
       "<style scoped>\n",
       "  .table-result-container {\n",
       "    max-height: 300px;\n",
       "    overflow: auto;\n",
       "  }\n",
       "  table, th, td {\n",
       "    border: 1px solid black;\n",
       "    border-collapse: collapse;\n",
       "  }\n",
       "  th, td {\n",
       "    padding: 5px;\n",
       "  }\n",
       "  th {\n",
       "    text-align: left;\n",
       "  }\n",
       "</style><div class='table-result-container'><table class='table-result'><thead style='background-color: white'><tr><th>hotel_name</th><th>avg_rating</th></tr></thead><tbody><tr><td>ITC Gardenia</td><td>72.6</td></tr><tr><td>The Leela Palace</td><td>100.0</td></tr><tr><td>Marriott</td><td>63.75</td></tr><tr><td>The Oberoi</td><td>65.25</td></tr><tr><td>Taj Krishna</td><td>86.0</td></tr><tr><td>Novotel</td><td>79.125</td></tr><tr><td>ITC Grand Chola</td><td>76.5</td></tr><tr><td>ITC Kakatiya</td><td>67.83333333333333</td></tr><tr><td>Taj West End</td><td>75.4</td></tr><tr><td>Conrad</td><td>76.6</td></tr><tr><td>JW Marriott</td><td>70.33333333333333</td></tr><tr><td>Taj Mahal Palace</td><td>63.6</td></tr><tr><td>Taj Coromandel</td><td>70.0</td></tr><tr><td>Leela Palace</td><td>74.66666666666667</td></tr><tr><td>Hyatt</td><td>76.33333333333333</td></tr><tr><td>Hyatt Regency</td><td>73.66666666666667</td></tr></tbody></table></div>"
      ]
     },
     "metadata": {
      "application/vnd.databricks.v1+output": {
       "addedWidgets": {},
       "aggData": [],
       "aggError": "",
       "aggOverflow": false,
       "aggSchema": [],
       "aggSeriesLimitReached": false,
       "aggType": "",
       "arguments": {},
       "columnCustomDisplayInfos": {},
       "data": [
        [
         "ITC Gardenia",
         72.6
        ],
        [
         "The Leela Palace",
         100.0
        ],
        [
         "Marriott",
         63.75
        ],
        [
         "The Oberoi",
         65.25
        ],
        [
         "Taj Krishna",
         86.0
        ],
        [
         "Novotel",
         79.125
        ],
        [
         "ITC Grand Chola",
         76.5
        ],
        [
         "ITC Kakatiya",
         67.83333333333333
        ],
        [
         "Taj West End",
         75.4
        ],
        [
         "Conrad",
         76.6
        ],
        [
         "JW Marriott",
         70.33333333333333
        ],
        [
         "Taj Mahal Palace",
         63.6
        ],
        [
         "Taj Coromandel",
         70.0
        ],
        [
         "Leela Palace",
         74.66666666666667
        ],
        [
         "Hyatt",
         76.33333333333333
        ],
        [
         "Hyatt Regency",
         73.66666666666667
        ]
       ],
       "datasetInfos": [],
       "dbfsResultPath": null,
       "isJsonSchema": true,
       "metadata": {},
       "overflow": false,
       "plotOptions": {
        "customPlotOptions": {},
        "displayType": "table",
        "pivotAggregation": null,
        "pivotColumns": null,
        "xColumns": null,
        "yColumns": null
       },
       "removedWidgets": [],
       "schema": [
        {
         "metadata": "{}",
         "name": "hotel_name",
         "type": "\"string\""
        },
        {
         "metadata": "{}",
         "name": "avg_rating",
         "type": "\"double\""
        }
       ],
       "type": "table"
      }
     },
     "output_type": "display_data"
    },
    {
     "output_type": "display_data",
     "data": {
      "text/html": [
       "<style scoped>\n",
       "  .table-result-container {\n",
       "    max-height: 300px;\n",
       "    overflow: auto;\n",
       "  }\n",
       "  table, th, td {\n",
       "    border: 1px solid black;\n",
       "    border-collapse: collapse;\n",
       "  }\n",
       "  th, td {\n",
       "    padding: 5px;\n",
       "  }\n",
       "  th {\n",
       "    text-align: left;\n",
       "  }\n",
       "</style><div class='table-result-container'><table class='table-result'><thead style='background-color: white'><tr><th>customer_name</th><th>total_spent</th></tr></thead><tbody><tr><td>Divya</td><td>216419</td></tr><tr><td>Rahul</td><td>204143</td></tr><tr><td>John</td><td>189195</td></tr><tr><td>Sneha</td><td>183620</td></tr><tr><td>Anjali</td><td>179168</td></tr></tbody></table></div>"
      ]
     },
     "metadata": {
      "application/vnd.databricks.v1+output": {
       "addedWidgets": {},
       "aggData": [],
       "aggError": "",
       "aggOverflow": false,
       "aggSchema": [],
       "aggSeriesLimitReached": false,
       "aggType": "",
       "arguments": {},
       "columnCustomDisplayInfos": {},
       "data": [
        [
         "Divya",
         216419
        ],
        [
         "Rahul",
         204143
        ],
        [
         "John",
         189195
        ],
        [
         "Sneha",
         183620
        ],
        [
         "Anjali",
         179168
        ]
       ],
       "datasetInfos": [],
       "dbfsResultPath": null,
       "isJsonSchema": true,
       "metadata": {},
       "overflow": false,
       "plotOptions": {
        "customPlotOptions": {},
        "displayType": "table",
        "pivotAggregation": null,
        "pivotColumns": null,
        "xColumns": null,
        "yColumns": null
       },
       "removedWidgets": [],
       "schema": [
        {
         "metadata": "{}",
         "name": "customer_name",
         "type": "\"string\""
        },
        {
         "metadata": "{}",
         "name": "total_spent",
         "type": "\"long\""
        }
       ],
       "type": "table"
      }
     },
     "output_type": "display_data"
    },
    {
     "output_type": "display_data",
     "data": {
      "text/html": [
       "<style scoped>\n",
       "  .table-result-container {\n",
       "    max-height: 300px;\n",
       "    overflow: auto;\n",
       "  }\n",
       "  table, th, td {\n",
       "    border: 1px solid black;\n",
       "    border-collapse: collapse;\n",
       "  }\n",
       "  th, td {\n",
       "    padding: 5px;\n",
       "  }\n",
       "  th {\n",
       "    text-align: left;\n",
       "  }\n",
       "</style><div class='table-result-container'><table class='table-result'><thead style='background-color: white'><tr><th>city</th><th>city_revenue</th></tr></thead><tbody><tr><td>Bangalore</td><td>281435</td></tr><tr><td>Chennai</td><td>371254</td></tr><tr><td>Delhi</td><td>293873</td></tr><tr><td>Mumbai</td><td>317153</td></tr><tr><td>Pune</td><td>329535</td></tr><tr><td>Hyderabad</td><td>556936</td></tr></tbody></table></div>"
      ]
     },
     "metadata": {
      "application/vnd.databricks.v1+output": {
       "addedWidgets": {},
       "aggData": [],
       "aggError": "",
       "aggOverflow": false,
       "aggSchema": [],
       "aggSeriesLimitReached": false,
       "aggType": "",
       "arguments": {},
       "columnCustomDisplayInfos": {},
       "data": [
        [
         "Bangalore",
         281435
        ],
        [
         "Chennai",
         371254
        ],
        [
         "Delhi",
         293873
        ],
        [
         "Mumbai",
         317153
        ],
        [
         "Pune",
         329535
        ],
        [
         "Hyderabad",
         556936
        ]
       ],
       "datasetInfos": [],
       "dbfsResultPath": null,
       "isJsonSchema": true,
       "metadata": {},
       "overflow": false,
       "plotOptions": {
        "customPlotOptions": {},
        "displayType": "table",
        "pivotAggregation": null,
        "pivotColumns": null,
        "xColumns": null,
        "yColumns": null
       },
       "removedWidgets": [],
       "schema": [
        {
         "metadata": "{}",
         "name": "city",
         "type": "\"string\""
        },
        {
         "metadata": "{}",
         "name": "city_revenue",
         "type": "\"long\""
        }
       ],
       "type": "table"
      }
     },
     "output_type": "display_data"
    }
   ],
   "source": [
    "%python\n",
    "from pyspark.sql import functions as F\n",
    "\n",
    "\n",
    "df = spark.table(\"travel_bookings\")\n",
    "\n",
    "\n",
    "df.printSchema()\n",
    "\n",
    "\n",
    "display(df)\n",
    "\n",
    "\n",
    "# 1. Total Revenue\n",
    "\n",
    "total_revenue = df.agg(F.sum(\"amount_spent\").alias(\"total_revenue\"))\n",
    "display(total_revenue)\n",
    "\n",
    "# -------------------------\n",
    "# 2. Average Stay Duration by City\n",
    "# -------------------------\n",
    "avg_stay = df.groupBy(\"city\").agg(F.avg(\"stay_duration\").alias(\"avg_stay_duration\"))\n",
    "display(avg_stay)\n",
    "\n",
    "# -------------------------\n",
    "# 3. Count of Bookings by Status\n",
    "# -------------------------\n",
    "status_count = df.groupBy(\"status\").agg(F.count(\"*\").alias(\"total_bookings\"))\n",
    "display(status_count)\n",
    "\n",
    "# -------------------------\n",
    "# 4. Average Rating by Hotel\n",
    "# -------------------------\n",
    "hotel_rating = df.groupBy(\"hotel_name\").agg(F.avg(\"rating\").alias(\"avg_rating\"))\n",
    "display(hotel_rating)\n",
    "\n",
    "# -------------------------\n",
    "# 5. Top 5 Customers by Spending\n",
    "# -------------------------\n",
    "top_customers = df.groupBy(\"customer_name\") \\\n",
    "                 .agg(F.sum(\"amount_spent\").alias(\"total_spent\")) \\\n",
    "                 .orderBy(F.col(\"total_spent\").desc()) \\\n",
    "                 .limit(5)\n",
    "display(top_customers)\n",
    "\n",
    "# -------------------------\n",
    "# 6. Revenue by City\n",
    "# -------------------------\n",
    "revenue_city = df.groupBy(\"city\").agg(F.sum(\"amount_spent\").alias(\"city_revenue\"))\n",
    "display(revenue_city)\n"
   ]
  },
  {
   "cell_type": "code",
   "execution_count": 0,
   "metadata": {
    "application/vnd.databricks.v1+cell": {
     "cellMetadata": {
      "byteLimit": 2048000,
      "rowLimit": 10000
     },
     "inputWidgets": {},
     "nuid": "63948a97-63ec-48b0-ba32-eb3d483ae070",
     "showTitle": false,
     "tableResultSettingsMap": {},
     "title": ""
    }
   },
   "outputs": [
    {
     "output_type": "display_data",
     "data": {
      "text/html": [
       "<style scoped>\n",
       "  .table-result-container {\n",
       "    max-height: 300px;\n",
       "    overflow: auto;\n",
       "  }\n",
       "  table, th, td {\n",
       "    border: 1px solid black;\n",
       "    border-collapse: collapse;\n",
       "  }\n",
       "  th, td {\n",
       "    padding: 5px;\n",
       "  }\n",
       "  th {\n",
       "    text-align: left;\n",
       "  }\n",
       "</style><div class='table-result-container'><table class='table-result'><thead style='background-color: white'><tr><th>total_revenue</th></tr></thead><tbody><tr><td>2150186</td></tr></tbody></table></div>"
      ]
     },
     "metadata": {
      "application/vnd.databricks.v1+output": {
       "addedWidgets": {},
       "aggData": [],
       "aggError": "",
       "aggOverflow": false,
       "aggSchema": [],
       "aggSeriesLimitReached": false,
       "aggType": "",
       "arguments": {},
       "columnCustomDisplayInfos": {},
       "data": [
        [
         2150186
        ]
       ],
       "datasetInfos": [],
       "dbfsResultPath": null,
       "isJsonSchema": true,
       "metadata": {},
       "overflow": false,
       "plotOptions": {
        "customPlotOptions": {},
        "displayType": "table",
        "pivotAggregation": null,
        "pivotColumns": null,
        "xColumns": null,
        "yColumns": null
       },
       "removedWidgets": [],
       "schema": [
        {
         "metadata": "{}",
         "name": "total_revenue",
         "type": "\"long\""
        }
       ],
       "type": "table"
      }
     },
     "output_type": "display_data"
    },
    {
     "output_type": "display_data",
     "data": {
      "text/html": [
       "<style scoped>\n",
       "  .table-result-container {\n",
       "    max-height: 300px;\n",
       "    overflow: auto;\n",
       "  }\n",
       "  table, th, td {\n",
       "    border: 1px solid black;\n",
       "    border-collapse: collapse;\n",
       "  }\n",
       "  th, td {\n",
       "    padding: 5px;\n",
       "  }\n",
       "  th {\n",
       "    text-align: left;\n",
       "  }\n",
       "</style><div class='table-result-container'><table class='table-result'><thead style='background-color: white'><tr><th>city</th><th>avg_stay_duration</th></tr></thead><tbody><tr><td>Bangalore</td><td>5.636363636363637</td></tr><tr><td>Chennai</td><td>6.090909090909091</td></tr><tr><td>Delhi</td><td>5.909090909090909</td></tr><tr><td>Mumbai</td><td>7.0</td></tr><tr><td>Pune</td><td>7.166666666666667</td></tr><tr><td>Hyderabad</td><td>6.1</td></tr></tbody></table></div>"
      ]
     },
     "metadata": {
      "application/vnd.databricks.v1+output": {
       "addedWidgets": {},
       "aggData": [],
       "aggError": "",
       "aggOverflow": false,
       "aggSchema": [],
       "aggSeriesLimitReached": false,
       "aggType": "",
       "arguments": {},
       "columnCustomDisplayInfos": {},
       "data": [
        [
         "Bangalore",
         5.636363636363637
        ],
        [
         "Chennai",
         6.090909090909091
        ],
        [
         "Delhi",
         5.909090909090909
        ],
        [
         "Mumbai",
         7.0
        ],
        [
         "Pune",
         7.166666666666667
        ],
        [
         "Hyderabad",
         6.1
        ]
       ],
       "datasetInfos": [],
       "dbfsResultPath": null,
       "isJsonSchema": true,
       "metadata": {},
       "overflow": false,
       "plotOptions": {
        "customPlotOptions": {},
        "displayType": "table",
        "pivotAggregation": null,
        "pivotColumns": null,
        "xColumns": null,
        "yColumns": null
       },
       "removedWidgets": [],
       "schema": [
        {
         "metadata": "{}",
         "name": "city",
         "type": "\"string\""
        },
        {
         "metadata": "{}",
         "name": "avg_stay_duration",
         "type": "\"double\""
        }
       ],
       "type": "table"
      }
     },
     "output_type": "display_data"
    },
    {
     "output_type": "display_data",
     "data": {
      "text/html": [
       "<style scoped>\n",
       "  .table-result-container {\n",
       "    max-height: 300px;\n",
       "    overflow: auto;\n",
       "  }\n",
       "  table, th, td {\n",
       "    border: 1px solid black;\n",
       "    border-collapse: collapse;\n",
       "  }\n",
       "  th, td {\n",
       "    padding: 5px;\n",
       "  }\n",
       "  th {\n",
       "    text-align: left;\n",
       "  }\n",
       "</style><div class='table-result-container'><table class='table-result'><thead style='background-color: white'><tr><th>status</th><th>total_bookings</th></tr></thead><tbody><tr><td>booked</td><td>37</td></tr><tr><td>cancelled</td><td>38</td></tr></tbody></table></div>"
      ]
     },
     "metadata": {
      "application/vnd.databricks.v1+output": {
       "addedWidgets": {},
       "aggData": [],
       "aggError": "",
       "aggOverflow": false,
       "aggSchema": [],
       "aggSeriesLimitReached": false,
       "aggType": "",
       "arguments": {},
       "columnCustomDisplayInfos": {},
       "data": [
        [
         "booked",
         37
        ],
        [
         "cancelled",
         38
        ]
       ],
       "datasetInfos": [],
       "dbfsResultPath": null,
       "isJsonSchema": true,
       "metadata": {},
       "overflow": false,
       "plotOptions": {
        "customPlotOptions": {},
        "displayType": "table",
        "pivotAggregation": null,
        "pivotColumns": null,
        "xColumns": null,
        "yColumns": null
       },
       "removedWidgets": [],
       "schema": [
        {
         "metadata": "{}",
         "name": "status",
         "type": "\"string\""
        },
        {
         "metadata": "{}",
         "name": "total_bookings",
         "type": "\"long\""
        }
       ],
       "type": "table"
      }
     },
     "output_type": "display_data"
    },
    {
     "output_type": "display_data",
     "data": {
      "text/html": [
       "<style scoped>\n",
       "  .table-result-container {\n",
       "    max-height: 300px;\n",
       "    overflow: auto;\n",
       "  }\n",
       "  table, th, td {\n",
       "    border: 1px solid black;\n",
       "    border-collapse: collapse;\n",
       "  }\n",
       "  th, td {\n",
       "    padding: 5px;\n",
       "  }\n",
       "  th {\n",
       "    text-align: left;\n",
       "  }\n",
       "</style><div class='table-result-container'><table class='table-result'><thead style='background-color: white'><tr><th>hotel_name</th><th>avg_rating</th></tr></thead><tbody><tr><td>ITC Gardenia</td><td>72.6</td></tr><tr><td>The Leela Palace</td><td>100.0</td></tr><tr><td>Marriott</td><td>63.75</td></tr><tr><td>The Oberoi</td><td>65.25</td></tr><tr><td>Taj Krishna</td><td>86.0</td></tr><tr><td>Novotel</td><td>79.125</td></tr><tr><td>ITC Grand Chola</td><td>76.5</td></tr><tr><td>ITC Kakatiya</td><td>67.83333333333333</td></tr><tr><td>Taj West End</td><td>75.4</td></tr><tr><td>Conrad</td><td>76.6</td></tr><tr><td>JW Marriott</td><td>70.33333333333333</td></tr><tr><td>Taj Mahal Palace</td><td>63.6</td></tr><tr><td>Taj Coromandel</td><td>70.0</td></tr><tr><td>Leela Palace</td><td>74.66666666666667</td></tr><tr><td>Hyatt</td><td>76.33333333333333</td></tr><tr><td>Hyatt Regency</td><td>73.66666666666667</td></tr></tbody></table></div>"
      ]
     },
     "metadata": {
      "application/vnd.databricks.v1+output": {
       "addedWidgets": {},
       "aggData": [],
       "aggError": "",
       "aggOverflow": false,
       "aggSchema": [],
       "aggSeriesLimitReached": false,
       "aggType": "",
       "arguments": {},
       "columnCustomDisplayInfos": {},
       "data": [
        [
         "ITC Gardenia",
         72.6
        ],
        [
         "The Leela Palace",
         100.0
        ],
        [
         "Marriott",
         63.75
        ],
        [
         "The Oberoi",
         65.25
        ],
        [
         "Taj Krishna",
         86.0
        ],
        [
         "Novotel",
         79.125
        ],
        [
         "ITC Grand Chola",
         76.5
        ],
        [
         "ITC Kakatiya",
         67.83333333333333
        ],
        [
         "Taj West End",
         75.4
        ],
        [
         "Conrad",
         76.6
        ],
        [
         "JW Marriott",
         70.33333333333333
        ],
        [
         "Taj Mahal Palace",
         63.6
        ],
        [
         "Taj Coromandel",
         70.0
        ],
        [
         "Leela Palace",
         74.66666666666667
        ],
        [
         "Hyatt",
         76.33333333333333
        ],
        [
         "Hyatt Regency",
         73.66666666666667
        ]
       ],
       "datasetInfos": [],
       "dbfsResultPath": null,
       "isJsonSchema": true,
       "metadata": {},
       "overflow": false,
       "plotOptions": {
        "customPlotOptions": {},
        "displayType": "table",
        "pivotAggregation": null,
        "pivotColumns": null,
        "xColumns": null,
        "yColumns": null
       },
       "removedWidgets": [],
       "schema": [
        {
         "metadata": "{}",
         "name": "hotel_name",
         "type": "\"string\""
        },
        {
         "metadata": "{}",
         "name": "avg_rating",
         "type": "\"double\""
        }
       ],
       "type": "table"
      }
     },
     "output_type": "display_data"
    },
    {
     "output_type": "display_data",
     "data": {
      "text/html": [
       "<style scoped>\n",
       "  .table-result-container {\n",
       "    max-height: 300px;\n",
       "    overflow: auto;\n",
       "  }\n",
       "  table, th, td {\n",
       "    border: 1px solid black;\n",
       "    border-collapse: collapse;\n",
       "  }\n",
       "  th, td {\n",
       "    padding: 5px;\n",
       "  }\n",
       "  th {\n",
       "    text-align: left;\n",
       "  }\n",
       "</style><div class='table-result-container'><table class='table-result'><thead style='background-color: white'><tr><th>customer_name</th><th>total_spent</th></tr></thead><tbody><tr><td>Divya</td><td>216419</td></tr><tr><td>Rahul</td><td>204143</td></tr><tr><td>John</td><td>189195</td></tr><tr><td>Sneha</td><td>183620</td></tr><tr><td>Anjali</td><td>179168</td></tr></tbody></table></div>"
      ]
     },
     "metadata": {
      "application/vnd.databricks.v1+output": {
       "addedWidgets": {},
       "aggData": [],
       "aggError": "",
       "aggOverflow": false,
       "aggSchema": [],
       "aggSeriesLimitReached": false,
       "aggType": "",
       "arguments": {},
       "columnCustomDisplayInfos": {},
       "data": [
        [
         "Divya",
         216419
        ],
        [
         "Rahul",
         204143
        ],
        [
         "John",
         189195
        ],
        [
         "Sneha",
         183620
        ],
        [
         "Anjali",
         179168
        ]
       ],
       "datasetInfos": [],
       "dbfsResultPath": null,
       "isJsonSchema": true,
       "metadata": {},
       "overflow": false,
       "plotOptions": {
        "customPlotOptions": {},
        "displayType": "table",
        "pivotAggregation": null,
        "pivotColumns": null,
        "xColumns": null,
        "yColumns": null
       },
       "removedWidgets": [],
       "schema": [
        {
         "metadata": "{}",
         "name": "customer_name",
         "type": "\"string\""
        },
        {
         "metadata": "{}",
         "name": "total_spent",
         "type": "\"long\""
        }
       ],
       "type": "table"
      }
     },
     "output_type": "display_data"
    },
    {
     "output_type": "display_data",
     "data": {
      "text/html": [
       "<style scoped>\n",
       "  .table-result-container {\n",
       "    max-height: 300px;\n",
       "    overflow: auto;\n",
       "  }\n",
       "  table, th, td {\n",
       "    border: 1px solid black;\n",
       "    border-collapse: collapse;\n",
       "  }\n",
       "  th, td {\n",
       "    padding: 5px;\n",
       "  }\n",
       "  th {\n",
       "    text-align: left;\n",
       "  }\n",
       "</style><div class='table-result-container'><table class='table-result'><thead style='background-color: white'><tr><th>city</th><th>city_revenue</th></tr></thead><tbody><tr><td>Hyderabad</td><td>556936</td></tr><tr><td>Chennai</td><td>371254</td></tr><tr><td>Pune</td><td>329535</td></tr><tr><td>Mumbai</td><td>317153</td></tr><tr><td>Delhi</td><td>293873</td></tr><tr><td>Bangalore</td><td>281435</td></tr></tbody></table></div>"
      ]
     },
     "metadata": {
      "application/vnd.databricks.v1+output": {
       "addedWidgets": {},
       "aggData": [],
       "aggError": "",
       "aggOverflow": false,
       "aggSchema": [],
       "aggSeriesLimitReached": false,
       "aggType": "",
       "arguments": {},
       "columnCustomDisplayInfos": {},
       "data": [
        [
         "Hyderabad",
         556936
        ],
        [
         "Chennai",
         371254
        ],
        [
         "Pune",
         329535
        ],
        [
         "Mumbai",
         317153
        ],
        [
         "Delhi",
         293873
        ],
        [
         "Bangalore",
         281435
        ]
       ],
       "datasetInfos": [],
       "dbfsResultPath": null,
       "isJsonSchema": true,
       "metadata": {},
       "overflow": false,
       "plotOptions": {
        "customPlotOptions": {},
        "displayType": "table",
        "pivotAggregation": null,
        "pivotColumns": null,
        "xColumns": null,
        "yColumns": null
       },
       "removedWidgets": [],
       "schema": [
        {
         "metadata": "{}",
         "name": "city",
         "type": "\"string\""
        },
        {
         "metadata": "{}",
         "name": "city_revenue",
         "type": "\"long\""
        }
       ],
       "type": "table"
      }
     },
     "output_type": "display_data"
    }
   ],
   "source": [
    "# Register the table as a SQL view\n",
    "df = spark.table(\"travel_bookings\")\n",
    "df.createOrReplaceTempView(\"travel_bookings\")\n",
    "\n",
    "# -------------------------\n",
    "# 1. Total Revenue\n",
    "# -------------------------\n",
    "total_revenue = spark.sql(\"\"\"\n",
    "    SELECT SUM(amount_spent) AS total_revenue\n",
    "    FROM travel_bookings\n",
    "\"\"\")\n",
    "display(total_revenue)\n",
    "\n",
    "# -------------------------\n",
    "# 2. Average Stay Duration by City\n",
    "# -------------------------\n",
    "avg_stay = spark.sql(\"\"\"\n",
    "    SELECT city, AVG(stay_duration) AS avg_stay_duration\n",
    "    FROM travel_bookings\n",
    "    GROUP BY city\n",
    "\"\"\")\n",
    "display(avg_stay)\n",
    "\n",
    "# -------------------------\n",
    "# 3. Booking Status Count\n",
    "# -------------------------\n",
    "status_count = spark.sql(\"\"\"\n",
    "    SELECT status, COUNT(*) AS total_bookings\n",
    "    FROM travel_bookings\n",
    "    GROUP BY status\n",
    "\"\"\")\n",
    "display(status_count)\n",
    "\n",
    "# -------------------------\n",
    "# 4. Average Rating by Hotel\n",
    "# -------------------------\n",
    "hotel_rating = spark.sql(\"\"\"\n",
    "    SELECT hotel_name, AVG(rating) AS avg_rating\n",
    "    FROM travel_bookings\n",
    "    GROUP BY hotel_name\n",
    "\"\"\")\n",
    "display(hotel_rating)\n",
    "\n",
    "# -------------------------\n",
    "# 5. Top 5 Customers by Spending\n",
    "# -------------------------\n",
    "top_customers = spark.sql(\"\"\"\n",
    "    SELECT customer_name, SUM(amount_spent) AS total_spent\n",
    "    FROM travel_bookings\n",
    "    GROUP BY customer_name\n",
    "    ORDER BY total_spent DESC\n",
    "    LIMIT 5\n",
    "\"\"\")\n",
    "display(top_customers)\n",
    "\n",
    "# -------------------------\n",
    "# 6. Revenue by City\n",
    "# -------------------------\n",
    "revenue_city = spark.sql(\"\"\"\n",
    "    SELECT city, SUM(amount_spent) AS city_revenue\n",
    "    FROM travel_bookings\n",
    "    GROUP BY city\n",
    "    ORDER BY city_revenue DESC\n",
    "\"\"\")\n",
    "display(revenue_city)\n"
   ]
  },
  {
   "cell_type": "code",
   "execution_count": 0,
   "metadata": {
    "application/vnd.databricks.v1+cell": {
     "cellMetadata": {
      "byteLimit": 2048000,
      "rowLimit": 10000
     },
     "inputWidgets": {},
     "nuid": "5dd250cf-d18c-4e03-8c47-926f248037a6",
     "showTitle": false,
     "tableResultSettingsMap": {},
     "title": ""
    }
   },
   "outputs": [
    {
     "output_type": "stream",
     "name": "stdout",
     "output_type": "stream",
     "text": [
      "root\n |-- customer_id: string (nullable = true)\n |-- customer_name: string (nullable = true)\n |-- city: string (nullable = true)\n |-- hotel_id: string (nullable = true)\n |-- hotel_name: string (nullable = true)\n |-- hotel_location: string (nullable = true)\n |-- booking_id: string (nullable = true)\n |-- stay_duration: long (nullable = true)\n |-- amount_spent: long (nullable = true)\n |-- status: string (nullable = true)\n |-- rating: long (nullable = true)\n\n"
     ]
    },
    {
     "output_type": "display_data",
     "data": {
      "text/html": [
       "<style scoped>\n",
       "  .table-result-container {\n",
       "    max-height: 300px;\n",
       "    overflow: auto;\n",
       "  }\n",
       "  table, th, td {\n",
       "    border: 1px solid black;\n",
       "    border-collapse: collapse;\n",
       "  }\n",
       "  th, td {\n",
       "    padding: 5px;\n",
       "  }\n",
       "  th {\n",
       "    text-align: left;\n",
       "  }\n",
       "</style><div class='table-result-container'><table class='table-result'><thead style='background-color: white'><tr><th>hotel_name</th><th>cancellation_rate</th></tr></thead><tbody><tr><td>ITC Gardenia</td><td>0E-14</td></tr><tr><td>Taj Mahal Palace</td><td>0E-14</td></tr><tr><td>ITC Kakatiya</td><td>0E-14</td></tr><tr><td>Marriott</td><td>0E-14</td></tr><tr><td>The Leela Palace</td><td>0E-14</td></tr><tr><td>Taj Krishna</td><td>0E-14</td></tr><tr><td>ITC Grand Chola</td><td>0E-14</td></tr><tr><td>Taj West End</td><td>0E-14</td></tr><tr><td>Conrad</td><td>0E-14</td></tr><tr><td>The Oberoi</td><td>0E-14</td></tr><tr><td>Leela Palace</td><td>0E-14</td></tr><tr><td>Taj Coromandel</td><td>0E-14</td></tr><tr><td>JW Marriott</td><td>0E-14</td></tr><tr><td>Novotel</td><td>0E-14</td></tr><tr><td>Hyatt</td><td>0E-14</td></tr><tr><td>Hyatt Regency</td><td>0E-14</td></tr></tbody></table></div>"
      ]
     },
     "metadata": {
      "application/vnd.databricks.v1+output": {
       "addedWidgets": {},
       "aggData": [],
       "aggError": "",
       "aggOverflow": false,
       "aggSchema": [],
       "aggSeriesLimitReached": false,
       "aggType": "",
       "arguments": {},
       "columnCustomDisplayInfos": {},
       "data": [
        [
         "ITC Gardenia",
         "0E-14"
        ],
        [
         "Taj Mahal Palace",
         "0E-14"
        ],
        [
         "ITC Kakatiya",
         "0E-14"
        ],
        [
         "Marriott",
         "0E-14"
        ],
        [
         "The Leela Palace",
         "0E-14"
        ],
        [
         "Taj Krishna",
         "0E-14"
        ],
        [
         "ITC Grand Chola",
         "0E-14"
        ],
        [
         "Taj West End",
         "0E-14"
        ],
        [
         "Conrad",
         "0E-14"
        ],
        [
         "The Oberoi",
         "0E-14"
        ],
        [
         "Leela Palace",
         "0E-14"
        ],
        [
         "Taj Coromandel",
         "0E-14"
        ],
        [
         "JW Marriott",
         "0E-14"
        ],
        [
         "Novotel",
         "0E-14"
        ],
        [
         "Hyatt",
         "0E-14"
        ],
        [
         "Hyatt Regency",
         "0E-14"
        ]
       ],
       "datasetInfos": [],
       "dbfsResultPath": null,
       "isJsonSchema": true,
       "metadata": {},
       "overflow": false,
       "plotOptions": {
        "customPlotOptions": {},
        "displayType": "table",
        "pivotAggregation": null,
        "pivotColumns": null,
        "xColumns": null,
        "yColumns": null
       },
       "removedWidgets": [],
       "schema": [
        {
         "metadata": "{}",
         "name": "hotel_name",
         "type": "\"string\""
        },
        {
         "metadata": "{}",
         "name": "cancellation_rate",
         "type": "\"decimal(38,14)\""
        }
       ],
       "type": "table"
      }
     },
     "output_type": "display_data"
    },
    {
     "output_type": "display_data",
     "data": {
      "text/html": [
       "<style scoped>\n",
       "  .table-result-container {\n",
       "    max-height: 300px;\n",
       "    overflow: auto;\n",
       "  }\n",
       "  table, th, td {\n",
       "    border: 1px solid black;\n",
       "    border-collapse: collapse;\n",
       "  }\n",
       "  th, td {\n",
       "    padding: 5px;\n",
       "  }\n",
       "  th {\n",
       "    text-align: left;\n",
       "  }\n",
       "</style><div class='table-result-container'><table class='table-result'><thead style='background-color: white'><tr><th>total_revenue</th></tr></thead><tbody><tr><td>2150186</td></tr></tbody></table></div>"
      ]
     },
     "metadata": {
      "application/vnd.databricks.v1+output": {
       "addedWidgets": {},
       "aggData": [],
       "aggError": "",
       "aggOverflow": false,
       "aggSchema": [],
       "aggSeriesLimitReached": false,
       "aggType": "",
       "arguments": {},
       "columnCustomDisplayInfos": {},
       "data": [
        [
         2150186
        ]
       ],
       "datasetInfos": [],
       "dbfsResultPath": null,
       "isJsonSchema": true,
       "metadata": {},
       "overflow": false,
       "plotOptions": {
        "customPlotOptions": {},
        "displayType": "table",
        "pivotAggregation": null,
        "pivotColumns": null,
        "xColumns": null,
        "yColumns": null
       },
       "removedWidgets": [],
       "schema": [
        {
         "metadata": "{}",
         "name": "total_revenue",
         "type": "\"long\""
        }
       ],
       "type": "table"
      }
     },
     "output_type": "display_data"
    }
   ],
   "source": [
    "%python\n",
    "\n",
    "# Load managed table\n",
    "df = spark.table(\"travel_bookings\")\n",
    "df.printSchema()\n",
    "\n",
    "# Register as a SQL view\n",
    "df.createOrReplaceTempView(\"travel_bookings\")\n",
    "\n",
    "# -------------------------\n",
    "# 1. Hotels with Highest Cancellation Rate\n",
    "# -------------------------\n",
    "cancellation_rate = spark.sql(\"\"\"\n",
    "    SELECT \n",
    "        hotel_name,\n",
    "        COUNT(CASE WHEN status = 'Cancelled' THEN 1 END) * 100.0 / COUNT(*) AS cancellation_rate\n",
    "    FROM travel_bookings\n",
    "    GROUP BY hotel_name\n",
    "    ORDER BY cancellation_rate DESC\n",
    "\"\"\")\n",
    "display(cancellation_rate)\n",
    "\n",
    "# -------------------------\n",
    "# 2. Total Revenue\n",
    "# -------------------------\n",
    "total_revenue = spark.sql(\"\"\"\n",
    "    SELECT SUM(amount_spent) AS total_revenue\n",
    "    FROM travel_bookings\n",
    "\"\"\")\n",
    "display(total_revenue)\n"
   ]
  },
  {
   "cell_type": "code",
   "execution_count": 0,
   "metadata": {
    "application/vnd.databricks.v1+cell": {
     "cellMetadata": {
      "byteLimit": 2048000,
      "rowLimit": 10000
     },
     "inputWidgets": {},
     "nuid": "58f6e30d-9fe7-40fa-80d6-66b5b378906c",
     "showTitle": false,
     "tableResultSettingsMap": {},
     "title": ""
    }
   },
   "outputs": [
    {
     "output_type": "stream",
     "name": "stdout",
     "output_type": "stream",
     "text": [
      "root\n |-- customer_id: string (nullable = true)\n |-- customer_name: string (nullable = true)\n |-- city: string (nullable = true)\n |-- hotel_id: string (nullable = true)\n |-- hotel_name: string (nullable = true)\n |-- hotel_location: string (nullable = true)\n |-- booking_id: string (nullable = true)\n |-- stay_duration: long (nullable = true)\n |-- amount_spent: long (nullable = true)\n |-- status: string (nullable = true)\n |-- rating: long (nullable = true)\n\n"
     ]
    },
    {
     "output_type": "display_data",
     "data": {
      "text/html": [
       "<style scoped>\n",
       "  .table-result-container {\n",
       "    max-height: 300px;\n",
       "    overflow: auto;\n",
       "  }\n",
       "  table, th, td {\n",
       "    border: 1px solid black;\n",
       "    border-collapse: collapse;\n",
       "  }\n",
       "  th, td {\n",
       "    padding: 5px;\n",
       "  }\n",
       "  th {\n",
       "    text-align: left;\n",
       "  }\n",
       "</style><div class='table-result-container'><table class='table-result'><thead style='background-color: white'><tr><th>customer_id</th><th>customer_name</th><th>city</th><th>hotel_id</th><th>hotel_name</th><th>hotel_location</th><th>booking_id</th><th>stay_duration</th><th>amount_spent</th><th>status</th><th>rating</th></tr></thead><tbody><tr><td>C001</td><td>Neha</td><td>Pune</td><td>H106</td><td>Conrad</td><td>Pune</td><td>B001</td><td>5</td><td>35140</td><td>cancelled</td><td>94</td></tr><tr><td>C002</td><td>John</td><td>Hyderabad</td><td>H101</td><td>Taj Krishna</td><td>Hyderabad</td><td>B002</td><td>7</td><td>42158</td><td>cancelled</td><td>91</td></tr><tr><td>C003</td><td>Vikas</td><td>Pune</td><td>H106</td><td>Conrad</td><td>Pune</td><td>B003</td><td>1</td><td>36451</td><td>booked</td><td>60</td></tr><tr><td>C004</td><td>Sneha</td><td>Pune</td><td>H106</td><td>Hyatt</td><td>Pune</td><td>B004</td><td>8</td><td>18071</td><td>booked</td><td>70</td></tr><tr><td>C005</td><td>Sneha</td><td>Pune</td><td>H106</td><td>Marriott</td><td>Pune</td><td>B005</td><td>10</td><td>44743</td><td>booked</td><td>96</td></tr><tr><td>C006</td><td>Sara</td><td>Chennai</td><td>H104</td><td>ITC Grand Chola</td><td>Chennai</td><td>B006</td><td>10</td><td>43222</td><td>cancelled</td><td>79</td></tr><tr><td>C007</td><td>Ramesh</td><td>Delhi</td><td>H103</td><td>Leela Palace</td><td>Delhi</td><td>B007</td><td>7</td><td>44116</td><td>booked</td><td>51</td></tr><tr><td>C008</td><td>Aditi</td><td>Hyderabad</td><td>H101</td><td>Novotel</td><td>Hyderabad</td><td>B008</td><td>6</td><td>26642</td><td>booked</td><td>94</td></tr><tr><td>C009</td><td>Rahul</td><td>Chennai</td><td>H104</td><td>Taj Coromandel</td><td>Chennai</td><td>B009</td><td>6</td><td>45354</td><td>booked</td><td>64</td></tr><tr><td>C010</td><td>John</td><td>Hyderabad</td><td>H101</td><td>Novotel</td><td>Hyderabad</td><td>B010</td><td>8</td><td>14850</td><td>cancelled</td><td>59</td></tr><tr><td>C011</td><td>Anjali</td><td>Hyderabad</td><td>H101</td><td>Novotel</td><td>Hyderabad</td><td>B011</td><td>2</td><td>49977</td><td>cancelled</td><td>58</td></tr><tr><td>C012</td><td>Kavya</td><td>Bangalore</td><td>H102</td><td>Taj West End</td><td>Bangalore</td><td>B012</td><td>6</td><td>18878</td><td>cancelled</td><td>59</td></tr><tr><td>C013</td><td>Neha</td><td>Chennai</td><td>H104</td><td>ITC Grand Chola</td><td>Chennai</td><td>B013</td><td>1</td><td>15240</td><td>booked</td><td>98</td></tr><tr><td>C014</td><td>Sneha</td><td>Bangalore</td><td>H102</td><td>ITC Gardenia</td><td>Bangalore</td><td>B014</td><td>2</td><td>48622</td><td>cancelled</td><td>56</td></tr><tr><td>C015</td><td>Mohit</td><td>Mumbai</td><td>H105</td><td>Taj Mahal Palace</td><td>Mumbai</td><td>B015</td><td>2</td><td>27004</td><td>booked</td><td>59</td></tr><tr><td>C016</td><td>Divya</td><td>Pune</td><td>H106</td><td>Conrad</td><td>Pune</td><td>B016</td><td>9</td><td>9594</td><td>booked</td><td>56</td></tr><tr><td>C017</td><td>Divya</td><td>Pune</td><td>H106</td><td>Conrad</td><td>Pune</td><td>B017</td><td>10</td><td>18108</td><td>cancelled</td><td>82</td></tr><tr><td>C018</td><td>Anjali</td><td>Chennai</td><td>H104</td><td>Hyatt Regency</td><td>Chennai</td><td>B018</td><td>8</td><td>43128</td><td>cancelled</td><td>57</td></tr><tr><td>C019</td><td>Meena</td><td>Bangalore</td><td>H102</td><td>Taj West End</td><td>Bangalore</td><td>B019</td><td>3</td><td>31185</td><td>cancelled</td><td>69</td></tr><tr><td>C020</td><td>Lakshmi</td><td>Hyderabad</td><td>H101</td><td>Taj Krishna</td><td>Hyderabad</td><td>B020</td><td>1</td><td>16617</td><td>cancelled</td><td>83</td></tr><tr><td>C021</td><td>Kavya</td><td>Hyderabad</td><td>H101</td><td>ITC Kakatiya</td><td>Hyderabad</td><td>B021</td><td>8</td><td>17367</td><td>cancelled</td><td>61</td></tr><tr><td>C022</td><td>Rahul</td><td>Pune</td><td>H106</td><td>Marriott</td><td>Pune</td><td>B022</td><td>8</td><td>49452</td><td>cancelled</td><td>51</td></tr><tr><td>C023</td><td>Vijay</td><td>Hyderabad</td><td>H101</td><td>ITC Kakatiya</td><td>Hyderabad</td><td>B023</td><td>4</td><td>48939</td><td>cancelled</td><td>89</td></tr><tr><td>C024</td><td>Arun</td><td>Delhi</td><td>H103</td><td>Hyatt Regency</td><td>Delhi</td><td>B024</td><td>6</td><td>16779</td><td>booked</td><td>71</td></tr><tr><td>C025</td><td>John</td><td>Bangalore</td><td>H102</td><td>ITC Gardenia</td><td>Bangalore</td><td>B025</td><td>10</td><td>6604</td><td>cancelled</td><td>66</td></tr><tr><td>C026</td><td>Rahul</td><td>Mumbai</td><td>H105</td><td>JW Marriott</td><td>Mumbai</td><td>B026</td><td>4</td><td>46048</td><td>cancelled</td><td>65</td></tr><tr><td>C027</td><td>Mohit</td><td>Pune</td><td>H106</td><td>Hyatt</td><td>Pune</td><td>B027</td><td>7</td><td>18928</td><td>cancelled</td><td>81</td></tr><tr><td>C028</td><td>Mohit</td><td>Chennai</td><td>H104</td><td>Taj Coromandel</td><td>Chennai</td><td>B028</td><td>7</td><td>41980</td><td>booked</td><td>76</td></tr><tr><td>C029</td><td>Arun</td><td>Hyderabad</td><td>H101</td><td>ITC Kakatiya</td><td>Hyderabad</td><td>B029</td><td>7</td><td>29111</td><td>booked</td><td>66</td></tr><tr><td>C030</td><td>Meena</td><td>Chennai</td><td>H104</td><td>Hyatt Regency</td><td>Chennai</td><td>B030</td><td>10</td><td>44262</td><td>booked</td><td>89</td></tr><tr><td>C031</td><td>Rahul</td><td>Hyderabad</td><td>H101</td><td>ITC Kakatiya</td><td>Hyderabad</td><td>B031</td><td>9</td><td>42642</td><td>cancelled</td><td>50</td></tr><tr><td>C032</td><td>Anjali</td><td>Pune</td><td>H106</td><td>Conrad</td><td>Pune</td><td>B032</td><td>8</td><td>5207</td><td>cancelled</td><td>91</td></tr><tr><td>C033</td><td>Vikas</td><td>Hyderabad</td><td>H101</td><td>Novotel</td><td>Hyderabad</td><td>B033</td><td>8</td><td>42053</td><td>booked</td><td>89</td></tr><tr><td>C034</td><td>Sneha</td><td>Hyderabad</td><td>H101</td><td>Taj Krishna</td><td>Hyderabad</td><td>B034</td><td>10</td><td>38836</td><td>cancelled</td><td>91</td></tr><tr><td>C035</td><td>Divya</td><td>Bangalore</td><td>H102</td><td>ITC Gardenia</td><td>Bangalore</td><td>B035</td><td>2</td><td>4961</td><td>cancelled</td><td>93</td></tr><tr><td>C036</td><td>Lakshmi</td><td>Mumbai</td><td>H105</td><td>The Oberoi</td><td>Mumbai</td><td>B036</td><td>8</td><td>38408</td><td>booked</td><td>56</td></tr><tr><td>C037</td><td>Anjali</td><td>Mumbai</td><td>H105</td><td>JW Marriott</td><td>Mumbai</td><td>B037</td><td>10</td><td>35912</td><td>cancelled</td><td>75</td></tr><tr><td>C038</td><td>Ramesh</td><td>Bangalore</td><td>H102</td><td>Taj West End</td><td>Bangalore</td><td>B038</td><td>1</td><td>35937</td><td>booked</td><td>91</td></tr><tr><td>C039</td><td>Divya</td><td>Bangalore</td><td>H102</td><td>Taj West End</td><td>Bangalore</td><td>B039</td><td>8</td><td>45404</td><td>booked</td><td>95</td></tr><tr><td>C040</td><td>Sneha</td><td>Bangalore</td><td>H102</td><td>ITC Gardenia</td><td>Bangalore</td><td>B040</td><td>10</td><td>20713</td><td>booked</td><td>74</td></tr><tr><td>C041</td><td>Divya</td><td>Delhi</td><td>H103</td><td>Leela Palace</td><td>Delhi</td><td>B041</td><td>7</td><td>30019</td><td>cancelled</td><td>96</td></tr><tr><td>C042</td><td>Priya</td><td>Delhi</td><td>H103</td><td>Leela Palace</td><td>Delhi</td><td>B042</td><td>3</td><td>41181</td><td>booked</td><td>84</td></tr><tr><td>C043</td><td>Vijay</td><td>Hyderabad</td><td>H101</td><td>Taj Krishna</td><td>Hyderabad</td><td>B043</td><td>10</td><td>4872</td><td>booked</td><td>94</td></tr><tr><td>C044</td><td>Meena</td><td>Chennai</td><td>H104</td><td>ITC Grand Chola</td><td>Chennai</td><td>B044</td><td>3</td><td>29400</td><td>cancelled</td><td>77</td></tr><tr><td>C045</td><td>Aditi</td><td>Bangalore</td><td>H102</td><td>ITC Gardenia</td><td>Bangalore</td><td>B045</td><td>8</td><td>23299</td><td>booked</td><td>74</td></tr><tr><td>C046</td><td>Kavya</td><td>Mumbai</td><td>H105</td><td>Taj Mahal Palace</td><td>Mumbai</td><td>B046</td><td>10</td><td>19525</td><td>booked</td><td>55</td></tr><tr><td>C047</td><td>John</td><td>Delhi</td><td>H103</td><td>Leela Palace</td><td>Delhi</td><td>B047</td><td>6</td><td>39452</td><td>cancelled</td><td>66</td></tr><tr><td>C048</td><td>Daniel</td><td>Chennai</td><td>H104</td><td>ITC Grand Chola</td><td>Chennai</td><td>B048</td><td>4</td><td>32524</td><td>booked</td><td>83</td></tr><tr><td>C049</td><td>Vikas</td><td>Chennai</td><td>H104</td><td>ITC Grand Chola</td><td>Chennai</td><td>B049</td><td>6</td><td>43827</td><td>booked</td><td>55</td></tr><tr><td>C050</td><td>John</td><td>Hyderabad</td><td>H101</td><td>Novotel</td><td>Hyderabad</td><td>B050</td><td>5</td><td>48160</td><td>cancelled</td><td>90</td></tr><tr><td>C051</td><td>Sara</td><td>Delhi</td><td>H103</td><td>Hyatt Regency</td><td>Delhi</td><td>B051</td><td>7</td><td>39807</td><td>booked</td><td>83</td></tr><tr><td>C052</td><td>Rahul</td><td>Hyderabad</td><td>H101</td><td>ITC Kakatiya</td><td>Hyderabad</td><td>B052</td><td>1</td><td>16896</td><td>cancelled</td><td>67</td></tr><tr><td>C053</td><td>Mohit</td><td>Mumbai</td><td>H105</td><td>Taj Mahal Palace</td><td>Mumbai</td><td>B053</td><td>5</td><td>40316</td><td>booked</td><td>52</td></tr><tr><td>C054</td><td>Mohit</td><td>Chennai</td><td>H104</td><td>ITC Grand Chola</td><td>Chennai</td><td>B054</td><td>9</td><td>17261</td><td>booked</td><td>67</td></tr><tr><td>C055</td><td>Rahul</td><td>Delhi</td><td>H103</td><td>The Oberoi</td><td>Delhi</td><td>B055</td><td>6</td><td>3751</td><td>booked</td><td>58</td></tr><tr><td>C056</td><td>Divya</td><td>Mumbai</td><td>H105</td><td>Taj Mahal Palace</td><td>Mumbai</td><td>B056</td><td>4</td><td>32867</td><td>cancelled</td><td>75</td></tr><tr><td>C057</td><td>Anjali</td><td>Bangalore</td><td>H102</td><td>The Leela Palace</td><td>Bangalore</td><td>B057</td><td>5</td><td>25125</td><td>cancelled</td><td>100</td></tr><tr><td>C058</td><td>Kavya</td><td>Pune</td><td>H106</td><td>Marriott</td><td>Pune</td><td>B058</td><td>4</td><td>10610</td><td>cancelled</td><td>58</td></tr><tr><td>C059</td><td>Vikas</td><td>Delhi</td><td>H103</td><td>Hyatt Regency</td><td>Delhi</td><td>B059</td><td>6</td><td>14906</td><td>booked</td><td>70</td></tr><tr><td>C060</td><td>Kavya</td><td>Bangalore</td><td>H102</td><td>Taj West End</td><td>Bangalore</td><td>B060</td><td>7</td><td>20707</td><td>booked</td><td>63</td></tr><tr><td>C061</td><td>Lakshmi</td><td>Hyderabad</td><td>H101</td><td>Novotel</td><td>Hyderabad</td><td>B061</td><td>1</td><td>40843</td><td>booked</td><td>93</td></tr><tr><td>C062</td><td>Vikas</td><td>Delhi</td><td>H103</td><td>Leela Palace</td><td>Delhi</td><td>B062</td><td>3</td><td>11152</td><td>cancelled</td><td>95</td></tr><tr><td>C063</td><td>Kavya</td><td>Chennai</td><td>H104</td><td>Hyatt Regency</td><td>Chennai</td><td>B063</td><td>3</td><td>15056</td><td>booked</td><td>72</td></tr><tr><td>C064</td><td>Vikas</td><td>Mumbai</td><td>H105</td><td>JW Marriott</td><td>Mumbai</td><td>B064</td><td>9</td><td>19283</td><td>cancelled</td><td>71</td></tr><tr><td>C065</td><td>Anjali</td><td>Mumbai</td><td>H105</td><td>Taj Mahal Palace</td><td>Mumbai</td><td>B065</td><td>10</td><td>19819</td><td>cancelled</td><td>77</td></tr><tr><td>C066</td><td>Divya</td><td>Pune</td><td>H106</td><td>Hyatt</td><td>Pune</td><td>B066</td><td>7</td><td>36530</td><td>cancelled</td><td>78</td></tr><tr><td>C067</td><td>Mohit</td><td>Hyderabad</td><td>H101</td><td>ITC Kakatiya</td><td>Hyderabad</td><td>B067</td><td>7</td><td>13073</td><td>booked</td><td>74</td></tr><tr><td>C068</td><td>Lakshmi</td><td>Hyderabad</td><td>H101</td><td>Novotel</td><td>Hyderabad</td><td>B068</td><td>7</td><td>37474</td><td>booked</td><td>87</td></tr><tr><td>C069</td><td>Sneha</td><td>Hyderabad</td><td>H101</td><td>Taj Krishna</td><td>Hyderabad</td><td>B069</td><td>10</td><td>12635</td><td>booked</td><td>82</td></tr><tr><td>C070</td><td>Meena</td><td>Hyderabad</td><td>H101</td><td>Novotel</td><td>Hyderabad</td><td>B070</td><td>2</td><td>2716</td><td>cancelled</td><td>63</td></tr><tr><td>C071</td><td>Kavya</td><td>Delhi</td><td>H103</td><td>The Oberoi</td><td>Delhi</td><td>B071</td><td>4</td><td>13774</td><td>booked</td><td>93</td></tr><tr><td>C072</td><td>Divya</td><td>Delhi</td><td>H103</td><td>Leela Palace</td><td>Delhi</td><td>B072</td><td>10</td><td>38936</td><td>cancelled</td><td>56</td></tr><tr><td>C073</td><td>Daniel</td><td>Hyderabad</td><td>H101</td><td>Taj Krishna</td><td>Hyderabad</td><td>B073</td><td>9</td><td>11075</td><td>booked</td><td>75</td></tr><tr><td>C074</td><td>John</td><td>Mumbai</td><td>H105</td><td>The Oberoi</td><td>Mumbai</td><td>B074</td><td>8</td><td>37971</td><td>cancelled</td><td>54</td></tr><tr><td>C075</td><td>Neha</td><td>Pune</td><td>H106</td><td>Marriott</td><td>Pune</td><td>B075</td><td>9</td><td>46701</td><td>cancelled</td><td>50</td></tr></tbody></table></div>"
      ]
     },
     "metadata": {
      "application/vnd.databricks.v1+output": {
       "addedWidgets": {},
       "aggData": [],
       "aggError": "",
       "aggOverflow": false,
       "aggSchema": [],
       "aggSeriesLimitReached": false,
       "aggType": "",
       "arguments": {},
       "columnCustomDisplayInfos": {},
       "data": [
        [
         "C001",
         "Neha",
         "Pune",
         "H106",
         "Conrad",
         "Pune",
         "B001",
         5,
         35140,
         "cancelled",
         94
        ],
        [
         "C002",
         "John",
         "Hyderabad",
         "H101",
         "Taj Krishna",
         "Hyderabad",
         "B002",
         7,
         42158,
         "cancelled",
         91
        ],
        [
         "C003",
         "Vikas",
         "Pune",
         "H106",
         "Conrad",
         "Pune",
         "B003",
         1,
         36451,
         "booked",
         60
        ],
        [
         "C004",
         "Sneha",
         "Pune",
         "H106",
         "Hyatt",
         "Pune",
         "B004",
         8,
         18071,
         "booked",
         70
        ],
        [
         "C005",
         "Sneha",
         "Pune",
         "H106",
         "Marriott",
         "Pune",
         "B005",
         10,
         44743,
         "booked",
         96
        ],
        [
         "C006",
         "Sara",
         "Chennai",
         "H104",
         "ITC Grand Chola",
         "Chennai",
         "B006",
         10,
         43222,
         "cancelled",
         79
        ],
        [
         "C007",
         "Ramesh",
         "Delhi",
         "H103",
         "Leela Palace",
         "Delhi",
         "B007",
         7,
         44116,
         "booked",
         51
        ],
        [
         "C008",
         "Aditi",
         "Hyderabad",
         "H101",
         "Novotel",
         "Hyderabad",
         "B008",
         6,
         26642,
         "booked",
         94
        ],
        [
         "C009",
         "Rahul",
         "Chennai",
         "H104",
         "Taj Coromandel",
         "Chennai",
         "B009",
         6,
         45354,
         "booked",
         64
        ],
        [
         "C010",
         "John",
         "Hyderabad",
         "H101",
         "Novotel",
         "Hyderabad",
         "B010",
         8,
         14850,
         "cancelled",
         59
        ],
        [
         "C011",
         "Anjali",
         "Hyderabad",
         "H101",
         "Novotel",
         "Hyderabad",
         "B011",
         2,
         49977,
         "cancelled",
         58
        ],
        [
         "C012",
         "Kavya",
         "Bangalore",
         "H102",
         "Taj West End",
         "Bangalore",
         "B012",
         6,
         18878,
         "cancelled",
         59
        ],
        [
         "C013",
         "Neha",
         "Chennai",
         "H104",
         "ITC Grand Chola",
         "Chennai",
         "B013",
         1,
         15240,
         "booked",
         98
        ],
        [
         "C014",
         "Sneha",
         "Bangalore",
         "H102",
         "ITC Gardenia",
         "Bangalore",
         "B014",
         2,
         48622,
         "cancelled",
         56
        ],
        [
         "C015",
         "Mohit",
         "Mumbai",
         "H105",
         "Taj Mahal Palace",
         "Mumbai",
         "B015",
         2,
         27004,
         "booked",
         59
        ],
        [
         "C016",
         "Divya",
         "Pune",
         "H106",
         "Conrad",
         "Pune",
         "B016",
         9,
         9594,
         "booked",
         56
        ],
        [
         "C017",
         "Divya",
         "Pune",
         "H106",
         "Conrad",
         "Pune",
         "B017",
         10,
         18108,
         "cancelled",
         82
        ],
        [
         "C018",
         "Anjali",
         "Chennai",
         "H104",
         "Hyatt Regency",
         "Chennai",
         "B018",
         8,
         43128,
         "cancelled",
         57
        ],
        [
         "C019",
         "Meena",
         "Bangalore",
         "H102",
         "Taj West End",
         "Bangalore",
         "B019",
         3,
         31185,
         "cancelled",
         69
        ],
        [
         "C020",
         "Lakshmi",
         "Hyderabad",
         "H101",
         "Taj Krishna",
         "Hyderabad",
         "B020",
         1,
         16617,
         "cancelled",
         83
        ],
        [
         "C021",
         "Kavya",
         "Hyderabad",
         "H101",
         "ITC Kakatiya",
         "Hyderabad",
         "B021",
         8,
         17367,
         "cancelled",
         61
        ],
        [
         "C022",
         "Rahul",
         "Pune",
         "H106",
         "Marriott",
         "Pune",
         "B022",
         8,
         49452,
         "cancelled",
         51
        ],
        [
         "C023",
         "Vijay",
         "Hyderabad",
         "H101",
         "ITC Kakatiya",
         "Hyderabad",
         "B023",
         4,
         48939,
         "cancelled",
         89
        ],
        [
         "C024",
         "Arun",
         "Delhi",
         "H103",
         "Hyatt Regency",
         "Delhi",
         "B024",
         6,
         16779,
         "booked",
         71
        ],
        [
         "C025",
         "John",
         "Bangalore",
         "H102",
         "ITC Gardenia",
         "Bangalore",
         "B025",
         10,
         6604,
         "cancelled",
         66
        ],
        [
         "C026",
         "Rahul",
         "Mumbai",
         "H105",
         "JW Marriott",
         "Mumbai",
         "B026",
         4,
         46048,
         "cancelled",
         65
        ],
        [
         "C027",
         "Mohit",
         "Pune",
         "H106",
         "Hyatt",
         "Pune",
         "B027",
         7,
         18928,
         "cancelled",
         81
        ],
        [
         "C028",
         "Mohit",
         "Chennai",
         "H104",
         "Taj Coromandel",
         "Chennai",
         "B028",
         7,
         41980,
         "booked",
         76
        ],
        [
         "C029",
         "Arun",
         "Hyderabad",
         "H101",
         "ITC Kakatiya",
         "Hyderabad",
         "B029",
         7,
         29111,
         "booked",
         66
        ],
        [
         "C030",
         "Meena",
         "Chennai",
         "H104",
         "Hyatt Regency",
         "Chennai",
         "B030",
         10,
         44262,
         "booked",
         89
        ],
        [
         "C031",
         "Rahul",
         "Hyderabad",
         "H101",
         "ITC Kakatiya",
         "Hyderabad",
         "B031",
         9,
         42642,
         "cancelled",
         50
        ],
        [
         "C032",
         "Anjali",
         "Pune",
         "H106",
         "Conrad",
         "Pune",
         "B032",
         8,
         5207,
         "cancelled",
         91
        ],
        [
         "C033",
         "Vikas",
         "Hyderabad",
         "H101",
         "Novotel",
         "Hyderabad",
         "B033",
         8,
         42053,
         "booked",
         89
        ],
        [
         "C034",
         "Sneha",
         "Hyderabad",
         "H101",
         "Taj Krishna",
         "Hyderabad",
         "B034",
         10,
         38836,
         "cancelled",
         91
        ],
        [
         "C035",
         "Divya",
         "Bangalore",
         "H102",
         "ITC Gardenia",
         "Bangalore",
         "B035",
         2,
         4961,
         "cancelled",
         93
        ],
        [
         "C036",
         "Lakshmi",
         "Mumbai",
         "H105",
         "The Oberoi",
         "Mumbai",
         "B036",
         8,
         38408,
         "booked",
         56
        ],
        [
         "C037",
         "Anjali",
         "Mumbai",
         "H105",
         "JW Marriott",
         "Mumbai",
         "B037",
         10,
         35912,
         "cancelled",
         75
        ],
        [
         "C038",
         "Ramesh",
         "Bangalore",
         "H102",
         "Taj West End",
         "Bangalore",
         "B038",
         1,
         35937,
         "booked",
         91
        ],
        [
         "C039",
         "Divya",
         "Bangalore",
         "H102",
         "Taj West End",
         "Bangalore",
         "B039",
         8,
         45404,
         "booked",
         95
        ],
        [
         "C040",
         "Sneha",
         "Bangalore",
         "H102",
         "ITC Gardenia",
         "Bangalore",
         "B040",
         10,
         20713,
         "booked",
         74
        ],
        [
         "C041",
         "Divya",
         "Delhi",
         "H103",
         "Leela Palace",
         "Delhi",
         "B041",
         7,
         30019,
         "cancelled",
         96
        ],
        [
         "C042",
         "Priya",
         "Delhi",
         "H103",
         "Leela Palace",
         "Delhi",
         "B042",
         3,
         41181,
         "booked",
         84
        ],
        [
         "C043",
         "Vijay",
         "Hyderabad",
         "H101",
         "Taj Krishna",
         "Hyderabad",
         "B043",
         10,
         4872,
         "booked",
         94
        ],
        [
         "C044",
         "Meena",
         "Chennai",
         "H104",
         "ITC Grand Chola",
         "Chennai",
         "B044",
         3,
         29400,
         "cancelled",
         77
        ],
        [
         "C045",
         "Aditi",
         "Bangalore",
         "H102",
         "ITC Gardenia",
         "Bangalore",
         "B045",
         8,
         23299,
         "booked",
         74
        ],
        [
         "C046",
         "Kavya",
         "Mumbai",
         "H105",
         "Taj Mahal Palace",
         "Mumbai",
         "B046",
         10,
         19525,
         "booked",
         55
        ],
        [
         "C047",
         "John",
         "Delhi",
         "H103",
         "Leela Palace",
         "Delhi",
         "B047",
         6,
         39452,
         "cancelled",
         66
        ],
        [
         "C048",
         "Daniel",
         "Chennai",
         "H104",
         "ITC Grand Chola",
         "Chennai",
         "B048",
         4,
         32524,
         "booked",
         83
        ],
        [
         "C049",
         "Vikas",
         "Chennai",
         "H104",
         "ITC Grand Chola",
         "Chennai",
         "B049",
         6,
         43827,
         "booked",
         55
        ],
        [
         "C050",
         "John",
         "Hyderabad",
         "H101",
         "Novotel",
         "Hyderabad",
         "B050",
         5,
         48160,
         "cancelled",
         90
        ],
        [
         "C051",
         "Sara",
         "Delhi",
         "H103",
         "Hyatt Regency",
         "Delhi",
         "B051",
         7,
         39807,
         "booked",
         83
        ],
        [
         "C052",
         "Rahul",
         "Hyderabad",
         "H101",
         "ITC Kakatiya",
         "Hyderabad",
         "B052",
         1,
         16896,
         "cancelled",
         67
        ],
        [
         "C053",
         "Mohit",
         "Mumbai",
         "H105",
         "Taj Mahal Palace",
         "Mumbai",
         "B053",
         5,
         40316,
         "booked",
         52
        ],
        [
         "C054",
         "Mohit",
         "Chennai",
         "H104",
         "ITC Grand Chola",
         "Chennai",
         "B054",
         9,
         17261,
         "booked",
         67
        ],
        [
         "C055",
         "Rahul",
         "Delhi",
         "H103",
         "The Oberoi",
         "Delhi",
         "B055",
         6,
         3751,
         "booked",
         58
        ],
        [
         "C056",
         "Divya",
         "Mumbai",
         "H105",
         "Taj Mahal Palace",
         "Mumbai",
         "B056",
         4,
         32867,
         "cancelled",
         75
        ],
        [
         "C057",
         "Anjali",
         "Bangalore",
         "H102",
         "The Leela Palace",
         "Bangalore",
         "B057",
         5,
         25125,
         "cancelled",
         100
        ],
        [
         "C058",
         "Kavya",
         "Pune",
         "H106",
         "Marriott",
         "Pune",
         "B058",
         4,
         10610,
         "cancelled",
         58
        ],
        [
         "C059",
         "Vikas",
         "Delhi",
         "H103",
         "Hyatt Regency",
         "Delhi",
         "B059",
         6,
         14906,
         "booked",
         70
        ],
        [
         "C060",
         "Kavya",
         "Bangalore",
         "H102",
         "Taj West End",
         "Bangalore",
         "B060",
         7,
         20707,
         "booked",
         63
        ],
        [
         "C061",
         "Lakshmi",
         "Hyderabad",
         "H101",
         "Novotel",
         "Hyderabad",
         "B061",
         1,
         40843,
         "booked",
         93
        ],
        [
         "C062",
         "Vikas",
         "Delhi",
         "H103",
         "Leela Palace",
         "Delhi",
         "B062",
         3,
         11152,
         "cancelled",
         95
        ],
        [
         "C063",
         "Kavya",
         "Chennai",
         "H104",
         "Hyatt Regency",
         "Chennai",
         "B063",
         3,
         15056,
         "booked",
         72
        ],
        [
         "C064",
         "Vikas",
         "Mumbai",
         "H105",
         "JW Marriott",
         "Mumbai",
         "B064",
         9,
         19283,
         "cancelled",
         71
        ],
        [
         "C065",
         "Anjali",
         "Mumbai",
         "H105",
         "Taj Mahal Palace",
         "Mumbai",
         "B065",
         10,
         19819,
         "cancelled",
         77
        ],
        [
         "C066",
         "Divya",
         "Pune",
         "H106",
         "Hyatt",
         "Pune",
         "B066",
         7,
         36530,
         "cancelled",
         78
        ],
        [
         "C067",
         "Mohit",
         "Hyderabad",
         "H101",
         "ITC Kakatiya",
         "Hyderabad",
         "B067",
         7,
         13073,
         "booked",
         74
        ],
        [
         "C068",
         "Lakshmi",
         "Hyderabad",
         "H101",
         "Novotel",
         "Hyderabad",
         "B068",
         7,
         37474,
         "booked",
         87
        ],
        [
         "C069",
         "Sneha",
         "Hyderabad",
         "H101",
         "Taj Krishna",
         "Hyderabad",
         "B069",
         10,
         12635,
         "booked",
         82
        ],
        [
         "C070",
         "Meena",
         "Hyderabad",
         "H101",
         "Novotel",
         "Hyderabad",
         "B070",
         2,
         2716,
         "cancelled",
         63
        ],
        [
         "C071",
         "Kavya",
         "Delhi",
         "H103",
         "The Oberoi",
         "Delhi",
         "B071",
         4,
         13774,
         "booked",
         93
        ],
        [
         "C072",
         "Divya",
         "Delhi",
         "H103",
         "Leela Palace",
         "Delhi",
         "B072",
         10,
         38936,
         "cancelled",
         56
        ],
        [
         "C073",
         "Daniel",
         "Hyderabad",
         "H101",
         "Taj Krishna",
         "Hyderabad",
         "B073",
         9,
         11075,
         "booked",
         75
        ],
        [
         "C074",
         "John",
         "Mumbai",
         "H105",
         "The Oberoi",
         "Mumbai",
         "B074",
         8,
         37971,
         "cancelled",
         54
        ],
        [
         "C075",
         "Neha",
         "Pune",
         "H106",
         "Marriott",
         "Pune",
         "B075",
         9,
         46701,
         "cancelled",
         50
        ]
       ],
       "datasetInfos": [],
       "dbfsResultPath": null,
       "isJsonSchema": true,
       "metadata": {},
       "overflow": false,
       "plotOptions": {
        "customPlotOptions": {},
        "displayType": "table",
        "pivotAggregation": null,
        "pivotColumns": null,
        "xColumns": null,
        "yColumns": null
       },
       "removedWidgets": [],
       "schema": [
        {
         "metadata": "{}",
         "name": "customer_id",
         "type": "\"string\""
        },
        {
         "metadata": "{}",
         "name": "customer_name",
         "type": "\"string\""
        },
        {
         "metadata": "{}",
         "name": "city",
         "type": "\"string\""
        },
        {
         "metadata": "{}",
         "name": "hotel_id",
         "type": "\"string\""
        },
        {
         "metadata": "{}",
         "name": "hotel_name",
         "type": "\"string\""
        },
        {
         "metadata": "{}",
         "name": "hotel_location",
         "type": "\"string\""
        },
        {
         "metadata": "{}",
         "name": "booking_id",
         "type": "\"string\""
        },
        {
         "metadata": "{}",
         "name": "stay_duration",
         "type": "\"long\""
        },
        {
         "metadata": "{}",
         "name": "amount_spent",
         "type": "\"long\""
        },
        {
         "metadata": "{}",
         "name": "status",
         "type": "\"string\""
        },
        {
         "metadata": "{}",
         "name": "rating",
         "type": "\"long\""
        }
       ],
       "type": "table"
      }
     },
     "output_type": "display_data"
    },
    {
     "output_type": "stream",
     "name": "stdout",
     "output_type": "stream",
     "text": [
      "   total_revenue\n0        2150186\n"
     ]
    },
    {
     "output_type": "display_data",
     "data": {
      "image/png": "[encoded data removed]",
      "text/plain": [
       "<Figure size 500x300 with 1 Axes>"
      ]
     },
     "metadata": {},
     "output_type": "display_data"
    },
    {
     "output_type": "display_data",
     "data": {
      "image/png": "[encoded data removed]",
      "text/plain": [
       "<Figure size 800x400 with 1 Axes>"
      ]
     },
     "metadata": {},
     "output_type": "display_data"
    },
    {
     "output_type": "display_data",
     "data": {
      "image/png": "[encoded data removed]",
      "text/plain": [
       "<Figure size 600x600 with 1 Axes>"
      ]
     },
     "metadata": {},
     "output_type": "display_data"
    },
    {
     "output_type": "display_data",
     "data": {
      "image/png": "[encoded data removed]",
      "text/plain": [
       "<Figure size 1000x500 with 1 Axes>"
      ]
     },
     "metadata": {},
     "output_type": "display_data"
    },
    {
     "output_type": "display_data",
     "data": {
      "image/png": "[encoded data removed]",
      "text/plain": [
       "<Figure size 800x400 with 1 Axes>"
      ]
     },
     "metadata": {},
     "output_type": "display_data"
    },
    {
     "output_type": "display_data",
     "data": {
      "image/png": "[encoded data removed]",
      "text/plain": [
       "<Figure size 800x400 with 1 Axes>"
      ]
     },
     "metadata": {},
     "output_type": "display_data"
    }
   ],
   "source": [
    "%python\n",
    "import matplotlib.pyplot as plt\n",
    "\n",
    "from pyspark.sql import functions as F\n",
    "\n",
    "# Load the table created from your CSV\n",
    "df = spark.table(\"travel_bookings\")\n",
    "\n",
    "# Show schema\n",
    "df.printSchema()\n",
    "\n",
    "# Show first few rows\n",
    "display(df)\n",
    "\n",
    "# -------------------------\n",
    "# 1. Total Revenue\n",
    "# -------------------------\n",
    "total_revenue = df.agg(F.sum(\"amount_spent\").alias(\"total_revenue\")).toPandas()\n",
    "print(total_revenue)\n",
    "\n",
    "# Visualization: just print total revenue as text\n",
    "plt.figure(figsize=(5,3))\n",
    "plt.bar([\"Total Revenue\"], total_revenue[\"total_revenue\"], color=\"skyblue\")\n",
    "plt.title(\"Total Revenue\")\n",
    "plt.ylabel(\"Amount\")\n",
    "plt.show()\n",
    "\n",
    "# -------------------------\n",
    "# 2. Average Stay Duration by City\n",
    "# -------------------------\n",
    "avg_stay = df.groupBy(\"city\").agg(F.avg(\"stay_duration\").alias(\"avg_stay_duration\")).toPandas()\n",
    "\n",
    "plt.figure(figsize=(8,4))\n",
    "plt.bar(avg_stay[\"city\"], avg_stay[\"avg_stay_duration\"], color=\"orange\")\n",
    "plt.title(\"Average Stay Duration by City\")\n",
    "plt.xlabel(\"City\")\n",
    "plt.ylabel(\"Avg Stay Duration (days)\")\n",
    "plt.xticks(rotation=45)\n",
    "plt.show()\n",
    "\n",
    "# -------------------------\n",
    "# 3. Count of Bookings by Status\n",
    "# -------------------------\n",
    "status_count = df.groupBy(\"status\").agg(F.count(\"*\").alias(\"total_bookings\")).toPandas()\n",
    "\n",
    "plt.figure(figsize=(6,6))\n",
    "plt.pie(status_count[\"total_bookings\"], labels=status_count[\"status\"], autopct='%1.1f%%', startangle=140)\n",
    "plt.title(\"Bookings by Status\")\n",
    "plt.show()\n",
    "\n",
    "# -------------------------\n",
    "# 4. Average Rating by Hotel\n",
    "# -------------------------\n",
    "hotel_rating = df.groupBy(\"hotel_name\").agg(F.avg(\"rating\").alias(\"avg_rating\")).toPandas()\n",
    "\n",
    "plt.figure(figsize=(10,5))\n",
    "plt.barh(hotel_rating[\"hotel_name\"], hotel_rating[\"avg_rating\"], color=\"green\")\n",
    "plt.title(\"Average Hotel Ratings\")\n",
    "plt.xlabel(\"Avg Rating\")\n",
    "plt.ylabel(\"Hotel\")\n",
    "plt.show()\n",
    "\n",
    "# -------------------------\n",
    "# 5. Top 5 Customers by Spending\n",
    "# -------------------------\n",
    "top_customers = df.groupBy(\"customer_name\") \\\n",
    "                 .agg(F.sum(\"amount_spent\").alias(\"total_spent\")) \\\n",
    "                 .orderBy(F.col(\"total_spent\").desc()) \\\n",
    "                 .limit(5).toPandas()\n",
    "\n",
    "plt.figure(figsize=(8,4))\n",
    "plt.bar(top_customers[\"customer_name\"], top_customers[\"total_spent\"], color=\"purple\")\n",
    "plt.title(\"Top 5 Customers by Spending\")\n",
    "plt.xlabel(\"Customer Name\")\n",
    "plt.ylabel(\"Total Spent\")\n",
    "plt.xticks(rotation=45)\n",
    "plt.show()\n",
    "\n",
    "# -------------------------\n",
    "# 6. Revenue by City\n",
    "# -------------------------\n",
    "revenue_city = df.groupBy(\"city\").agg(F.sum(\"amount_spent\").alias(\"city_revenue\")).toPandas()\n",
    "\n",
    "plt.figure(figsize=(8,4))\n",
    "plt.bar(revenue_city[\"city\"], revenue_city[\"city_revenue\"], color=\"red\")\n",
    "plt.title(\"Revenue by City\")\n",
    "plt.xlabel(\"City\")\n",
    "plt.ylabel(\"Revenue\")\n",
    "plt.xticks(rotation=45)\n",
    "plt.show()\n"
   ]
  }
 ],
 "metadata": {
  "application/vnd.databricks.v1+notebook": {
   "computePreferences": null,
   "dashboards": [],
   "environmentMetadata": {
    "base_environment": "",
    "environment_version": "3"
   },
   "inputWidgetPreferences": null,
   "language": "python",
   "notebookMetadata": {
    "pythonIndentUnit": 4
   },
   "notebookName": "travel & tourism analysis",
   "widgets": {}
  },
  "language_info": {
   "name": "python"
  }
 },
 "nbformat": 4,
 "nbformat_minor": 0
}